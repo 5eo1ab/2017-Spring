{
 "cells": [
  {
   "cell_type": "markdown",
   "metadata": {},
   "source": [
    "## 데이터처리언어 HW1:  코딩 기본 쌓기\n",
    "due date: 2017.4.5. (서한빈)\n",
    "\n",
    "### 문제1: 두 단어\n",
    "* 입력으로 두 단어와 이 둘을 포함한 단어모음(사전)이 주어진다고 하자. 첫 단어에서 한 글자씩 변경해내가되, 변경된 단어가 사전에 포함되어 있어야 한다는 제약하에, 첫 번째 단어가 두 번째 단어로 변경될 수 있는지 여부를 출력하는 함수를 만들어 보자.\n",
    "> - 예를 들어, \"dog\"와 \"cat\", 이 둘을 포함하는 사전 {\"dog\", \"cag\", \"dag\", \"cat\", \"dat\"}이 주어졌다면,  \"dog\" - \"d**a**g\" - \"**c**ag\" - \"ca**t**\" 과 같이 한 글자씩 변경하여 사전에 있는 단어들을 사용하여 \"dog\"를 \"cat\"으로 바꿀 수 있으므로 True를 반환한다. 몰론 \"dog\" - \"d**a**g\" - \"da**t**\" - \"**c**at\"도 가능하다.\n",
    "> - 만약 사전으로 {\"dog\", \"dag\", \"cat\"}이 주어졌다면, 한 글자씩 변경하여 \"dog\"를 \"cat\"으로 바꿀 수 있는 경우가 0개이므로 False를 반환한다."
   ]
  },
  {
   "cell_type": "code",
   "execution_count": 1,
   "metadata": {
    "collapsed": true
   },
   "outputs": [],
   "source": [
    "def compare_seq(word1, word2) :\n",
    "    if len(word1) != len(word2) :\n",
    "        return -1\n",
    "    list1, list2 = list(word1), list(word2)\n",
    "    f_count = 0\n",
    "    for idx in range(len(list1)) :\n",
    "        if list1[idx] == list2[idx] :\n",
    "            continue\n",
    "        else :\n",
    "            f_count += 1\n",
    "    return f_count\n",
    "\n",
    "def two_words(w1, w2, w_list) :\n",
    "    if w1 not in w_list or w2 not in w_list :\n",
    "        print(\"Error: 입력하는 단어모음에는 입력하는 두 단어를 포함하고 있어야 함.\")\n",
    "        return None\n",
    "    p_w, w_li, cnt_li = w1, w_list, None\n",
    "    del w_li[w_li.index(p_w)]\n",
    "    cnt_li = [compare_seq(p_w, w) for w in w_li]\n",
    "    print(\"{0}\\t{1}\\t{2}\".format(p_w, cnt_li, w_li))\n",
    "    while True :\n",
    "        if 1 not in cnt_li :\n",
    "            return False\n",
    "        p_w = w_li[cnt_li.index(1)]\n",
    "        if p_w == w2 :\n",
    "            print(\"{0} is answer!\".format(p_w))\n",
    "            return True\n",
    "        del w_li[cnt_li.index(1)]\n",
    "        cnt_li = [compare_seq(p_w, w) for w in w_li]\n",
    "        print(\"{0}\\t{1}\\t{2}\".format(p_w, cnt_li, w_li))\n",
    "    return None"
   ]
  },
  {
   "cell_type": "code",
   "execution_count": 2,
   "metadata": {
    "collapsed": false
   },
   "outputs": [
    {
     "name": "stdout",
     "output_type": "stream",
     "text": [
      "Error: 입력하는 단어모음에는 입력하는 두 단어를 포함하고 있어야 함.\n"
     ]
    }
   ],
   "source": [
    "word_dic = [\"dog\", \"dag\"]\n",
    "two_words(\"dog\", \"cat\", word_dic)"
   ]
  },
  {
   "cell_type": "code",
   "execution_count": 3,
   "metadata": {
    "collapsed": false
   },
   "outputs": [
    {
     "name": "stdout",
     "output_type": "stream",
     "text": [
      "dog\t[2, 1, 3, 2]\t['cag', 'dag', 'cat', 'dat']\n",
      "dag\t[1, 2, 1]\t['cag', 'cat', 'dat']\n",
      "cag\t[1, 2]\t['cat', 'dat']\n",
      "cat is answer!\n"
     ]
    },
    {
     "data": {
      "text/plain": [
       "True"
      ]
     },
     "execution_count": 3,
     "metadata": {},
     "output_type": "execute_result"
    }
   ],
   "source": [
    "word_dic = [\"dog\", \"cag\", \"dag\", \"cat\", \"dat\"]\n",
    "two_words(\"dog\", \"cat\", word_dic)"
   ]
  },
  {
   "cell_type": "code",
   "execution_count": 4,
   "metadata": {
    "collapsed": false
   },
   "outputs": [
    {
     "name": "stdout",
     "output_type": "stream",
     "text": [
      "dog\t[1, 3]\t['dag', 'cat']\n",
      "dag\t[2]\t['cat']\n"
     ]
    },
    {
     "data": {
      "text/plain": [
       "False"
      ]
     },
     "execution_count": 4,
     "metadata": {},
     "output_type": "execute_result"
    }
   ],
   "source": [
    "word_dic = [\"dog\", \"dag\", \"cat\"]\n",
    "two_words(\"dog\", \"cat\", word_dic)"
   ]
  },
  {
   "cell_type": "code",
   "execution_count": 5,
   "metadata": {
    "collapsed": false
   },
   "outputs": [
    {
     "name": "stdout",
     "output_type": "stream",
     "text": [
      "python\t[4, 5, 3, 2, 1]\t['panhas', 'pandas', 'panhan', 'pynhan', 'pythan']\n",
      "pythan\t[3, 4, 2, 1]\t['panhas', 'pandas', 'panhan', 'pynhan']\n",
      "pynhan\t[2, 3, 1]\t['panhas', 'pandas', 'panhan']\n",
      "panhan\t[1, 2]\t['panhas', 'pandas']\n",
      "panhas\t[1]\t['pandas']\n",
      "pandas is answer!\n"
     ]
    },
    {
     "data": {
      "text/plain": [
       "True"
      ]
     },
     "execution_count": 5,
     "metadata": {},
     "output_type": "execute_result"
    }
   ],
   "source": [
    "word_dic = [\"panhas\", \"pandas\", \"python\", \"panhan\", \"pynhan\", \"pythan\"]\n",
    "two_words(\"python\", \"pandas\", word_dic)"
   ]
  },
  {
   "cell_type": "code",
   "execution_count": 6,
   "metadata": {
    "collapsed": false
   },
   "outputs": [
    {
     "name": "stdout",
     "output_type": "stream",
     "text": [
      "python\t[4, 5, 2, 1]\t['panhas', 'pandas', 'pynhan', 'pythan']\n",
      "pythan\t[3, 4, 1]\t['panhas', 'pandas', 'pynhan']\n",
      "pynhan\t[2, 3]\t['panhas', 'pandas']\n"
     ]
    },
    {
     "data": {
      "text/plain": [
       "False"
      ]
     },
     "execution_count": 6,
     "metadata": {},
     "output_type": "execute_result"
    }
   ],
   "source": [
    "word_dic = [\"panhas\", \"pandas\", \"python\", \"pynhan\", \"pythan\"]\n",
    "two_words(\"python\", \"pandas\", word_dic)"
   ]
  },
  {
   "cell_type": "markdown",
   "metadata": {},
   "source": [
    "###  문제2: 잔돈\n",
    "* 50센트, 21센트, 10센트, 5센트, 1센트의 다섯 가지 동전이 있다고 하자. 이때, n센트를 표현하는 1) 모든 방법의 수, 2) 최소 동전개수를 계산하는 함수를 작성해보자.(동전 개수 제약은 없다)\n",
    "> * 예를 들어, 13원을 표현하는 방법은 아래와 같이 총 4개이며, 그 중 최소 동전 개수는 4개이다.\n",
    ">   * 10 + 1\\*3\n",
    ">   * 5\\*2 + 1\\*3\n",
    ">   * 5\\*1 + 1\\*8\n",
    ">   * 1\\*13"
   ]
  },
  {
   "cell_type": "code",
   "execution_count": 7,
   "metadata": {
    "collapsed": true
   },
   "outputs": [],
   "source": [
    "# (1) n 센트를 표현하는 모든 방법의 수를 계산하는 함수\n",
    "# return : 모든 방법의수, 모든 방법의 조합\n",
    "coins = [50, 21, 10, 5, 1]\n",
    "import numpy as np\n",
    "def get_dot_product(arr1, arr2) :\n",
    "    return np.dot(np.array(arr1), np.array(arr2))\n",
    "def all_combination(n_cent) :\n",
    "    max_coins = {}\n",
    "    for c in coins :\n",
    "        max_coins[c] = n_cent//c\n",
    "    res_comb = []\n",
    "    for i0 in range(max_coins[50]+1)[::-1] :\n",
    "        for i1 in range(max_coins[21]+1)[::-1] :\n",
    "            for i2 in range(max_coins[10]+1)[::-1] :\n",
    "                for i3 in range(max_coins[5]+1)[::-1] :\n",
    "                    tmp_arr = [i0, i1, i2, i3]\n",
    "                    tmp_val = get_dot_product(coins[:-1], tmp_arr)\n",
    "                    if n_cent >= tmp_val :\n",
    "                        tmp_arr.append(n_cent-tmp_val)\n",
    "                        res_comb.append(tmp_arr)\n",
    "    #return dict(count=len(res_comb), combinations = res_comb)\n",
    "    return len(res_comb), res_comb"
   ]
  },
  {
   "cell_type": "code",
   "execution_count": 7,
   "metadata": {
    "collapsed": true
   },
   "outputs": [],
   "source": [
    "# (1) n 센트를 표현하는 모든 방법의 수를 계산하는 함수\n",
    "# return : 모든 방법의수, 모든 방법의 조합\n",
    "coins = [50, 21, 10, 5, 1]\n",
    "import numpy as np\n",
    "def get_dot_product(arr1, arr2) :\n",
    "    return np.dot(np.array(arr1), np.array(arr2))\n",
    "def all_combination(n_cent) :\n",
    "    max_coins = {}\n",
    "    for c in coins :\n",
    "        max_coins[c] = n_cent//c\n",
    "    res_comb = []\n",
    "    while True :\n",
    "        tmp_arr = []\n",
    "        for c in coins[:-1] :\n",
    "            for i in range(max_coins[c]+1)[::-1] :\n",
    "                tmp_arr.append(i)\n",
    "            \n",
    "    for i0 in range(max_coins[50]+1)[::-1] :\n",
    "        for i1 in range(max_coins[21]+1)[::-1] :\n",
    "            for i2 in range(max_coins[10]+1)[::-1] :\n",
    "                for i3 in range(max_coins[5]+1)[::-1] :\n",
    "                    tmp_arr = [i0, i1, i2, i3]\n",
    "                    tmp_val = get_dot_product(coins[:-1], tmp_arr)\n",
    "                    if n_cent >= tmp_val :\n",
    "                        tmp_arr.append(n_cent-tmp_val)\n",
    "                        res_comb.append(tmp_arr)\n",
    "    #return dict(count=len(res_comb), combinations = res_comb)\n",
    "    return len(res_comb), res_comb"
   ]
  },
  {
   "cell_type": "code",
   "execution_count": 8,
   "metadata": {
    "collapsed": false
   },
   "outputs": [
    {
     "data": {
      "text/plain": [
       "(4, [[0, 0, 1, 0, 3], [0, 0, 0, 2, 3], [0, 0, 0, 1, 8], [0, 0, 0, 0, 13]])"
      ]
     },
     "execution_count": 8,
     "metadata": {},
     "output_type": "execute_result"
    }
   ],
   "source": [
    "all_combination(13)"
   ]
  },
  {
   "cell_type": "code",
   "execution_count": 9,
   "metadata": {
    "collapsed": false
   },
   "outputs": [
    {
     "data": {
      "text/plain": [
       "2103"
      ]
     },
     "execution_count": 9,
     "metadata": {},
     "output_type": "execute_result"
    }
   ],
   "source": [
    "all_combination(185)[0]"
   ]
  },
  {
   "cell_type": "code",
   "execution_count": 10,
   "metadata": {
    "collapsed": false
   },
   "outputs": [],
   "source": [
    "# (2) n센트를 표현하는 최소 동전개수를 계산하는 함수\n",
    "coins = [50, 21, 10, 5, 1]\n",
    "def min_num_coins(n_cent) :\n",
    "    min_c = 0\n",
    "    for c in coins :\n",
    "        if n_cent//c == 0 :\n",
    "            continue\n",
    "        min_c += n_cent//c\n",
    "        n_cent = n_cent%c\n",
    "    return min_c"
   ]
  },
  {
   "cell_type": "code",
   "execution_count": 11,
   "metadata": {
    "collapsed": false
   },
   "outputs": [
    {
     "data": {
      "text/plain": [
       "4"
      ]
     },
     "execution_count": 11,
     "metadata": {},
     "output_type": "execute_result"
    }
   ],
   "source": [
    "min_num_coins(13)"
   ]
  },
  {
   "cell_type": "code",
   "execution_count": 12,
   "metadata": {
    "collapsed": false
   },
   "outputs": [
    {
     "data": {
      "text/plain": [
       "9"
      ]
     },
     "execution_count": 12,
     "metadata": {},
     "output_type": "execute_result"
    }
   ],
   "source": [
    "min_num_coins(185)"
   ]
  },
  {
   "cell_type": "code",
   "execution_count": 13,
   "metadata": {
    "collapsed": false
   },
   "outputs": [
    {
     "data": {
      "text/plain": [
       "[0, 0, 1, 0, 3]"
      ]
     },
     "execution_count": 13,
     "metadata": {},
     "output_type": "execute_result"
    }
   ],
   "source": [
    "all_combination(13)[1][0]"
   ]
  },
  {
   "cell_type": "code",
   "execution_count": 14,
   "metadata": {
    "collapsed": false
   },
   "outputs": [
    {
     "data": {
      "text/plain": [
       "[3, 1, 1, 0, 4]"
      ]
     },
     "execution_count": 14,
     "metadata": {},
     "output_type": "execute_result"
    }
   ],
   "source": [
    "all_combination(185)[1][0]"
   ]
  }
 ],
 "metadata": {
  "anaconda-cloud": {},
  "kernelspec": {
   "display_name": "Python 3",
   "language": "python",
   "name": "python3"
  },
  "language_info": {
   "codemirror_mode": {
    "name": "ipython",
    "version": 3
   },
   "file_extension": ".py",
   "mimetype": "text/x-python",
   "name": "python",
   "nbconvert_exporter": "python",
   "pygments_lexer": "ipython3",
   "version": "3.6.0"
  }
 },
 "nbformat": 4,
 "nbformat_minor": 0
}
