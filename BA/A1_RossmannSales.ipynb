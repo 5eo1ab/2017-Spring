{
 "cells": [
  {
   "cell_type": "markdown",
   "metadata": {
    "nbpresent": {
     "id": "e7799b7e-a8a2-4360-bff1-b9d8d770fd22"
    }
   },
   "source": [
    "# Rossmann Store Sales Forecasting\n",
    "**Business Analytics (Spring, 2017)**  \n",
    "서한빈(석사2) @ Data Science, Seoultech  \n",
    "\n",
    "Submit Date: 2017.3.8.\n",
    "* * *"
   ]
  },
  {
   "cell_type": "markdown",
   "metadata": {
    "nbpresent": {
     "id": "e8aea34b-cbe8-49c9-a24e-43af8fc16dbe"
    }
   },
   "source": [
    "## 0. Problem\n",
    "### 유럽의 올리브영이라는 드럭스토어 Rossmann 매출 예측 문제\n",
    "Kaggle Competition\n",
    "> - 매장 관리자는 일일 판매량을 최대 6주전에 알아야 한다고 한다.\n",
    "> - 따라서 1115개의 독일에 위치한 매장에 한정해서, 6주간의 일일 판매량을 예측하는게 원래 문제!  \n",
    "\n",
    "In BA Class  \n",
    "> - 예측범위를 대폭 축소해서 10개의 매장(Store ID: 1~10)에 대해 1주일 간의 일일 판매량을 예측하고 평가\n",
    "> - 즉, 2014.1.1 부터 1주일간의 일일 판매량을 예측\n",
    "> - 한편, 2013.1.1 부터 2013.12.31 까지의 데이터를 학습해 모델 학습(train)  \n",
    "\n",
    "### Assignment's Problem\n",
    "1. Which data mining algorithms are appropriate for this problem?\n",
    "2. How do we make train data set to predict sales of the store?\n",
    "3. Build your own model; and then Evaluate accuracy of your model\n",
    "4. Summarize answers as slide; at this slide.  \n",
    "* * *"
   ]
  },
  {
   "cell_type": "markdown",
   "metadata": {},
   "source": [
    "## 1. Which data mining algorithms are appropriate for this problem?"
   ]
  },
  {
   "cell_type": "markdown",
   "metadata": {},
   "source": [
    "### 목적에 따른 모델링 분류\n",
    "\n",
    "#### Predictive modeling  \n",
    "- `과거`의 데이터를 바탕으로 `미래`를 예측하는 것이 목적  \n",
    "- 학습데이터에 입력(input)과 출력(output)이 갖춰야 있어야 하며, **교사학습(supervised learning)**이라 불림  \n",
    "> - Nominal(Categorical) 변수를 출력할 때 Classification(분류) 문제   \n",
    "> - Interval(Continuous) 변수를 출력할 때 **Prediction(예측)** 문제  \n",
    "\n",
    "#### Descriptive modeling  \n",
    "- `과거`의 데이터를 바탕으로 의미 있는 _결과(본질적 특성)_를 **`finding`** 하는 것이 목적\n",
    "- 학습데이터에는 입력(input)만 갖춤. **비교사학습(un-supervised learning)**이라 불림\n",
    "> - 비교사학습에는 군집화, 밀도추정, 차원축소 등 결과의 정답이 없다는 게 특징\n",
    "\n",
    "### 예측 알고리즘\n",
    "이 문제는 매출(Sales) 데이터를 예측하는 것이 목적이다.  \n",
    "매출 데이터는 numeric 하기 때문에 **예측(prediction) 문제**.  \n",
    "  \n",
    "예측문제에 적용해 볼 수 있는 알고리즘으로 아래의 방법론을 생각해 보았다.\n",
    "> * 회귀분석(Regression)  \n",
    "> * 시계열예측(Time series forecasting)  \n",
    "> * decision tree, knn-regression 등 기존 분류기법을 예측에 활용하는 방법 고려  \n",
    "> * 분류기법과 예측기법을 혼용하는 앙상블(Ensemble) 기법 등  \n",
    "\n",
    " \n",
    "유감이지만 `이 문제에서 어떤 알고리즘을 적절할까`에 대한 명쾌한 답은 이 단계에서 내릴 수 없을 것 같다.  \n",
    "먼저 데이터가 어떻게 구성되어 있는지 먼저 살펴보고 생각해 봐야겠다.  \n",
    "* * *"
   ]
  },
  {
   "cell_type": "markdown",
   "metadata": {
    "nbpresent": {
     "id": "a298bb0f-cf9b-4cc9-9834-7d396cb86e99"
    }
   },
   "source": [
    "## 2. How do we make train data set to predict sales of the store?"
   ]
  },
  {
   "cell_type": "markdown",
   "metadata": {
    "nbpresent": {
     "id": "5d8aa021-001b-4d3d-88c2-b132fe641dcd"
    }
   },
   "source": [
    "### 2.1 데이터셋 셋팅\n",
    "먼저 과제에서 제시한 데이터셋을 만들어야 한다.  \n",
    "1. 파일을 불러온다.\n",
    "2. train.csv 와 store.csv를 사용해 1부터 10까지의 스토어만 뽑고, 나머지는 버린다."
   ]
  },
  {
   "cell_type": "code",
   "execution_count": 1,
   "metadata": {
    "collapsed": false,
    "nbpresent": {
     "id": "f69fcc51-4531-4312-a664-501efd651e41"
    }
   },
   "outputs": [
    {
     "name": "stdout",
     "output_type": "stream",
     "text": [
      ">> raw shape:  (1017209, 9) (1115, 10)\n",
      ">> feature names:  Index(['Store', 'DayOfWeek', 'Date', 'Sales', 'Customers', 'Open', 'Promo',\n",
      "       'StateHoliday', 'SchoolHoliday'],\n",
      "      dtype='object')\n",
      ">> truncated shape:  (9420, 9) (10, 10)\n"
     ]
    },
    {
     "name": "stderr",
     "output_type": "stream",
     "text": [
      "C:\\Anaconda3\\lib\\site-packages\\IPython\\core\\interactiveshell.py:2723: DtypeWarning: Columns (7) have mixed types. Specify dtype option on import or set low_memory=False.\n",
      "  interactivity=interactivity, compiler=compiler, result=result)\n"
     ]
    }
   ],
   "source": [
    "import pandas as pd\n",
    "from pandas import DataFrame as df\n",
    "\n",
    "f_dir = \"D:/course_2017_spring/BA/Data/W1_Rossmann/\"\n",
    "dfTrain = pd.read_csv(f_dir+\"train.csv\")\n",
    "dfStore = pd.read_csv(f_dir+\"store.csv\")\n",
    "print(\">> raw shape: \", dfTrain.shape, dfStore.shape)\n",
    "\n",
    "## take stores from 1 to 10 only\n",
    "print(\">> feature names: \", dfTrain.keys()) \n",
    "dfTrain = dfTrain[dfTrain['Store']<11]\n",
    "dfStore = dfStore[dfStore['Store']<11]\n",
    "print(\">> truncated shape: \", dfTrain.shape, dfStore.shape)"
   ]
  },
  {
   "cell_type": "markdown",
   "metadata": {
    "nbpresent": {
     "id": "21ff30fc-7078-40d0-a90f-b195e8f2ab84"
    }
   },
   "source": [
    "  \n",
    "** Store Id 값을 기준으로 1~10인 매장의 데이터만 추출한거다.**  \n",
    "이제 날짜 정보를 기준으로 데이터셋을 `split` 해야한다.  \n",
    "* `train` 데이터셋: 2013.1.1 ~ 2013.12.31  \n",
    "* `test` 데이터셋: 2014.1.1 ~ 2014.1.7  \n",
    "\n",
    "이를 위해서 아래 스탭으로 처리했다.\n",
    "1. 그 다음으로 `str` 타입의 날짜정보(**Date**)를 시계열로 처리하기 위해서 **`datetime`** 타입으로 변환해야 한다.\n",
    "2. 이제 날짜를 기준으로 최종적으로 `train` 데이터셋과 `test` 데이터셋을 분활한다."
   ]
  },
  {
   "cell_type": "code",
   "execution_count": 2,
   "metadata": {
    "collapsed": false,
    "nbpresent": {
     "id": "b1a82e0d-bdc0-49fb-b3dc-9cedfd4eb843"
    },
    "scrolled": true
   },
   "outputs": [
    {
     "name": "stdout",
     "output_type": "stream",
     "text": [
      ">> added shape:  (9420, 10) (10, 10)\n",
      "2013-01-01 00:00:00\n",
      ">> train shape: (3650, 10), test shape: (70, 10)\n"
     ]
    },
    {
     "name": "stderr",
     "output_type": "stream",
     "text": [
      "C:\\Anaconda3\\lib\\site-packages\\ipykernel\\__main__.py:11: UserWarning: Boolean Series key will be reindexed to match DataFrame index.\n"
     ]
    }
   ],
   "source": [
    "## convert to datetime type from string type 'Date' \n",
    "from datetime import datetime as dt\n",
    "tmp_idx = list(dfTrain.index.values)\n",
    "dt_date = [dt.strptime(dfTrain['Date'][idx], '%Y-%m-%d') for idx in tmp_idx]\n",
    "dfTrain['dt_date'] = pd.Series(dt_date, index=tmp_idx)\n",
    "print(\">> added shape: \", dfTrain.shape, dfStore.shape)\n",
    "\n",
    "## build dataset\n",
    "print(dfTrain['dt_date'].min()) # 2013-01-01 00:00:00\n",
    "D_train = dfTrain[dfTrain['dt_date']<=dt(2013,12,31)]\n",
    "D_test = dfTrain[dfTrain['dt_date']<=dt(2014,1,7)][dfTrain['dt_date']>dt(2013,12,31)]\n",
    "print(\">> train shape: {0}, test shape: {1}\".format(D_train.shape, D_test.shape))"
   ]
  },
  {
   "cell_type": "markdown",
   "metadata": {
    "nbpresent": {
     "id": "8ed1d1ff-12e7-408b-8a6a-196952dc8e04"
    }
   },
   "source": [
    "### 2.2 데이터 탐색\n",
    "#### 2.2.1 target 데이터 탐색\n",
    "먼저 매출(**Sales**) 데이터의 분포를 보자. 이때, 기초통계량(`describe()`)이랑 `boxplot`을 보면 좋을꺼 같다."
   ]
  },
  {
   "cell_type": "code",
   "execution_count": 3,
   "metadata": {
    "collapsed": false
   },
   "outputs": [
    {
     "data": {
      "text/plain": [
       "count     3650.000000\n",
       "mean      5153.097534\n",
       "std       3160.981926\n",
       "min          0.000000\n",
       "25%       3773.000000\n",
       "50%       5250.500000\n",
       "75%       7072.000000\n",
       "max      18413.000000\n",
       "Name: Sales, dtype: float64"
      ]
     },
     "execution_count": 3,
     "metadata": {},
     "output_type": "execute_result"
    }
   ],
   "source": [
    "D_train['Sales'].describe()"
   ]
  },
  {
   "cell_type": "code",
   "execution_count": 4,
   "metadata": {
    "collapsed": false,
    "nbpresent": {
     "id": "094fe765-de2b-4624-a6b6-c74473a5befa"
    }
   },
   "outputs": [
    {
     "data": {
      "text/plain": [
       "{'boxes': [<matplotlib.lines.Line2D at 0x24553364ac8>],\n",
       " 'caps': [<matplotlib.lines.Line2D at 0x2455336fe48>,\n",
       "  <matplotlib.lines.Line2D at 0x2455337cda0>],\n",
       " 'fliers': [<matplotlib.lines.Line2D at 0x24553382e10>],\n",
       " 'means': [],\n",
       " 'medians': [<matplotlib.lines.Line2D at 0x2455337ceb8>],\n",
       " 'whiskers': [<matplotlib.lines.Line2D at 0x24553364c88>,\n",
       "  <matplotlib.lines.Line2D at 0x2455336fd30>]}"
      ]
     },
     "execution_count": 4,
     "metadata": {},
     "output_type": "execute_result"
    },
    {
     "data": {
      "image/png": "[encoded data removed]",
      "text/plain": [
       "<matplotlib.figure.Figure at 0x24550109320>"
      ]
     },
     "metadata": {},
     "output_type": "display_data"
    }
   ],
   "source": [
    "%matplotlib inline\n",
    "import numpy as np\n",
    "import matplotlib.pyplot as plt\n",
    "plt.boxplot(np.array(D_train['Sales']))"
   ]
  },
  {
   "cell_type": "markdown",
   "metadata": {},
   "source": [
    "** 뭔가 이상하다! **\n",
    "기초통계량과 `boxplot`을 살펴보면서, 이상하다고 느낌점이 매출이 0인 날이였다.   \n",
    "그래서 `histogram`을 그려보았다. 간격은 1000으로 주었다."
   ]
  },
  {
   "cell_type": "code",
   "execution_count": 5,
   "metadata": {
    "collapsed": false
   },
   "outputs": [
    {
     "data": {
      "text/plain": [
       "(array([ 619.,   34.,  118.,  263.,  617.,  640.,  418.,  321.,  243.,\n",
       "         170.,   95.,   48.,   28.,   12.,   13.,    4.,    4.,    2.,    1.]),\n",
       " array([    0,  1000,  2000,  3000,  4000,  5000,  6000,  7000,  8000,\n",
       "         9000, 10000, 11000, 12000, 13000, 14000, 15000, 16000, 17000,\n",
       "        18000, 19000]),\n",
       " <a list of 19 Patch objects>)"
      ]
     },
     "execution_count": 5,
     "metadata": {},
     "output_type": "execute_result"
    },
    {
     "data": {
      "image/png": "[encoded data removed]",
      "text/plain": [
       "<matplotlib.figure.Figure at 0x24553219898>"
      ]
     },
     "metadata": {},
     "output_type": "display_data"
    }
   ],
   "source": [
    "bins_range = range(D_train['Sales'].min(), D_train['Sales'].max()+1000,1000)\n",
    "plt.hist(D_train['Sales'], bins=bins_range)"
   ]
  },
  {
   "cell_type": "markdown",
   "metadata": {},
   "source": [
    "**매출이 0인 날이 다수 존재하는 것으로 보인다!**  \n",
    "매출이 0인날과 아닌날의 가장 큰 영향을 끼치는 변수가 무엇일까 찾아보았다.\n",
    "\n",
    "> 이때, 상식적으로 생각해봤을 때 영업을 안하는 날에는 당연히 매출이 없을꺼라 생각했다.  \n",
    "영엽여부를 나타내는 변수(**Open**)를 기준으로 `histogram`을 다시 그려볼 수 있었다."
   ]
  },
  {
   "cell_type": "code",
   "execution_count": 6,
   "metadata": {
    "collapsed": false
   },
   "outputs": [
    {
     "data": {
      "text/plain": [
       "Ttest_indResult(statistic=-65.823045951019111, pvalue=0.0)"
      ]
     },
     "execution_count": 6,
     "metadata": {},
     "output_type": "execute_result"
    },
    {
     "data": {
      "image/png": "[encoded data removed]",
      "text/plain": [
       "<matplotlib.figure.Figure at 0x245533e2390>"
      ]
     },
     "metadata": {},
     "output_type": "display_data"
    }
   ],
   "source": [
    "plt.hist(D_train[D_train['Open']==0]['Sales'], bins=bins_range)\n",
    "plt.hist(D_train[D_train['Open']==1]['Sales'], bins=bins_range)\n",
    "\n",
    "from scipy import stats\n",
    "stats.ttest_ind(D_train[D_train['Open']==0]['Sales'],D_train[D_train['Open']==1]['Sales'])"
   ]
  },
  {
   "cell_type": "markdown",
   "metadata": {},
   "source": [
    "** 명쾌하게 두 집단이 분리되는걸 확인할 수 있다! **  \n",
    "t-test를 이용해 확인해 보았을 때도 p-value가 0에 수렴하는 것으로 보인다.  \n",
    "그렇다면 이제 `Open==0`인 데이터는 제외하고, `Open==1`인 데이터에 한정해 살펴보아야겠다. "
   ]
  },
  {
   "cell_type": "code",
   "execution_count": 7,
   "metadata": {
    "collapsed": false
   },
   "outputs": [
    {
     "name": "stderr",
     "output_type": "stream",
     "text": [
      "C:\\Anaconda3\\lib\\site-packages\\ipykernel\\__main__.py:6: UserWarning: Boolean Series key will be reindexed to match DataFrame index.\n",
      "C:\\Anaconda3\\lib\\site-packages\\ipykernel\\__main__.py:8: UserWarning: Boolean Series key will be reindexed to match DataFrame index.\n"
     ]
    },
    {
     "data": {
      "image/png": "[encoded data removed]",
      "text/plain": [
       "<matplotlib.figure.Figure at 0x24553b9c710>"
      ]
     },
     "metadata": {},
     "output_type": "display_data"
    }
   ],
   "source": [
    "fig, axes = plt.subplots(nrows=2, ncols=5, figsize=(10, 6), sharey=True)\n",
    "tmp_idx = 0\n",
    "for store in set(D_train['Store']) :\n",
    "    #print(\"Store {0}\\n\".format(store) ,D_train[D_train['Open']==1][D_train['Store']==store]['Sales'].describe())\n",
    "    if tmp_idx < 5:\n",
    "        axes[0,tmp_idx].boxplot(np.array(D_train[D_train['Open']==1][D_train['Store']==store]['Sales']))\n",
    "    else :\n",
    "        axes[1,tmp_idx-5].boxplot(np.array(D_train[D_train['Open']==1][D_train['Store']==store]['Sales']))\n",
    "    tmp_idx += 1"
   ]
  },
  {
   "cell_type": "markdown",
   "metadata": {},
   "source": [
    "** 각 매장별로 영업일(`open==1`)의 매출분포를 `boxplot`으로 표현했다! **  \n",
    "각 매장의 특성에 따라 매출분포가 상이할 것이라는 판단할 수 있다.  \n",
    "다행히 매장의 특성정보를 제공하는 데이터셋 `dfStore`가 함께 주어졌다.  \n",
    "\n",
    "근데 문제는 현재 매출정보가 있는 테이블은 `dfTrain`을 변형해서 만든 `D_train`을 보고 있다.  \n",
    "(그리고 그 중에서 `Open==1`을 만족하는 record 만 고려하고 있다.)  \n",
    "우리는 이걸 함께보기 위해서 테이블을 **join** 해야하는데, 이번 기회에 `Open==0`인 record도 함께 날려버리자.  \n",
    "  \n",
    "그렇게해서 **`다중회귀분석(Multiple linear regression)`**을 적용해보는 것으로 계획을 세워야 겠다.\n",
    "더 많은 변수들의 관계를 살펴보아야 겠지만, 초벌?분석이기 때문에 이쯤에서 미뤄두고 일단 모델링을 하는데 초점을 맞추도록 하겠다.\n",
    "  \n",
    "### 2.3 데이터 조인\n",
    "`D_train` 테이블과 `dfStore` 테이블의 공통된 `key`는 **Store** Id 이다.  \n",
    "데이터베이스 조인기능을 `pandas`에서 어떻게 시킬 수 있을까에 대해 구글링을 해보았다.  \n",
    "[pandas.DataFrame.merge](http://pandas.pydata.org/pandas-docs/stable/generated/pandas.DataFrame.merge.html) 함수를 이용하면 가능하다고 한다.\n"
   ]
  },
  {
   "cell_type": "code",
   "execution_count": 8,
   "metadata": {
    "collapsed": false
   },
   "outputs": [
    {
     "name": "stdout",
     "output_type": "stream",
     "text": [
      "   Store StoreType Assortment  CompetitionDistance  CompetitionOpenSinceMonth  \\\n",
      "0      1         c          a               1270.0                        9.0   \n",
      "1      2         a          a                570.0                       11.0   \n",
      "2      3         a          a              14130.0                       12.0   \n",
      "3      4         c          c                620.0                        9.0   \n",
      "4      5         a          a              29910.0                        4.0   \n",
      "5      6         a          a                310.0                       12.0   \n",
      "6      7         a          c              24000.0                        4.0   \n",
      "7      8         a          a               7520.0                       10.0   \n",
      "8      9         a          c               2030.0                        8.0   \n",
      "9     10         a          a               3160.0                        9.0   \n",
      "\n",
      "   CompetitionOpenSinceYear  Promo2  Promo2SinceWeek  Promo2SinceYear  \\\n",
      "0                    2008.0       0              NaN              NaN   \n",
      "1                    2007.0       1             13.0           2010.0   \n",
      "2                    2006.0       1             14.0           2011.0   \n",
      "3                    2009.0       0              NaN              NaN   \n",
      "4                    2015.0       0              NaN              NaN   \n",
      "5                    2013.0       0              NaN              NaN   \n",
      "6                    2013.0       0              NaN              NaN   \n",
      "7                    2014.0       0              NaN              NaN   \n",
      "8                    2000.0       0              NaN              NaN   \n",
      "9                    2009.0       0              NaN              NaN   \n",
      "\n",
      "     PromoInterval  \n",
      "0              NaN  \n",
      "1  Jan,Apr,Jul,Oct  \n",
      "2  Jan,Apr,Jul,Oct  \n",
      "3              NaN  \n",
      "4              NaN  \n",
      "5              NaN  \n",
      "6              NaN  \n",
      "7              NaN  \n",
      "8              NaN  \n",
      "9              NaN  \n"
     ]
    }
   ],
   "source": [
    "print(dfStore)"
   ]
  },
  {
   "cell_type": "markdown",
   "metadata": {},
   "source": [
    "** 불필요 변수 지우기 **  \n",
    "`dfStore` 테이블은 각 매장에 대한 정보여서 크기가 크지 않아 열어보고 확인했다.  \n",
    "`Promo2SinceWeek,  Promo2SinceYear, PromoInterval` 변수는 의미도 잘 와닿지 않고 데이터도 지저분해 보여서  \n",
    "*임의로* 지워야 겠다고 판단했다.  \n",
    "\n",
    "또, 논리적으로 이상한 부분을 발견했다.\n",
    "* `CompetitionDistance` : 각 매장에서 경쟁업체 매장과의 거리정보. 인데...\n",
    "* `CompetitionOpenSinceMonth, CompetitionOpenSinceYear`: 그 경쟁업체가 언제 개점했는지에 대한 정보.  \n",
    "\n",
    "현재 우리가 학습하고 예측하고자 하는 기간의 범위는 2013년 한해동안의 데이터를 활용하는 것인데,  \n",
    "그보다 미래에 오픈하게 되는 경쟁업체의 정보가 들어있다. 애매하니까 다 지워버리자.\n",
    "\n",
    "\n",
    "\n",
    "1. `merge` 함수를 이용해 `D_train_join` 테이블을 만든다.\n",
    "2. 각 속성의 어떤 값을 가지고 있는지 확인한다. \n",
    "> 이때 날짜정보(Date, dt_date), 방문고객수(Customer)정보는 생략한다.  \n",
    "`D_train` 테이블에 있던 변수라서 너무 많다는게 변명인데, 사실 확인해보는게 무의미.  \n",
    "categorical한 변수에서 어떤 변수들이 있는지를 확인하기 위해서 해보는거다.  \n",
    "몰론 타겟변수인 Sales 변수도 포함."
   ]
  },
  {
   "cell_type": "code",
   "execution_count": 9,
   "metadata": {
    "collapsed": false,
    "scrolled": true
   },
   "outputs": [
    {
     "name": "stdout",
     "output_type": "stream",
     "text": [
      "Index(['Store', 'StoreType', 'Assortment', 'CompetitionDistance',\n",
      "       'CompetitionOpenSinceMonth', 'CompetitionOpenSinceYear', 'Promo2',\n",
      "       'Promo2SinceWeek', 'Promo2SinceYear', 'PromoInterval'],\n",
      "      dtype='object')\n",
      "Store\t{1, 2, 3, 4, 5, 6, 7, 8, 9, 10}\n",
      "DayOfWeek\t{1, 2, 3, 4, 5, 6, 7}\n",
      "Date \t pass...\n",
      "Sales \t pass...\n",
      "Customers \t pass...\n",
      "Open\t{0, 1}\n",
      "Promo\t{0, 1}\n",
      "StateHoliday\t{'b', 'c', 'a', '0'}\n",
      "SchoolHoliday\t{0, 1}\n",
      "dt_date \t pass...\n",
      "StoreType\t{'a', 'c'}\n",
      "Assortment\t{'a', 'c'}\n",
      "Promo2\t{0, 1}\n"
     ]
    }
   ],
   "source": [
    "print(dfStore.keys())\n",
    "for key in ['Promo2SinceWeek','Promo2SinceYear','PromoInterval'] :\n",
    "    del dfStore[key]\n",
    "for key in ['CompetitionDistance','CompetitionOpenSinceMonth','CompetitionOpenSinceYear'] :\n",
    "    del dfStore[key]\n",
    "\n",
    "    \n",
    "Jtrain = pd.merge(D_train, dfStore, on='Store')\n",
    "Jtest = pd.merge(D_test, dfStore, on='Store')\n",
    "for key in Jtrain.keys() :\n",
    "    if key in ['Sales', 'Customers', 'Date', 'dt_date'] :\n",
    "        print(\"{0} \\t pass...\".format(key))\n",
    "        continue\n",
    "    print(\"{0}\\t{1}\".format(key, set(Jtrain[key])))"
   ]
  },
  {
   "cell_type": "markdown",
   "metadata": {},
   "source": [
    "** 이쯤에서 변수를 정리해보자. **  \n",
    "먼저 스킵했던 변수  \n",
    "1. `Date` : 날짜정보인데, `str` 타입의 변수다. 쓸모없다.(그래서 미리 `datetime` 타입으로 바꿔뒀다!)\n",
    "2. `dt_date` : 같은 날짜정보. 근데 `datetime` 타입. 조금 쓸모있다고 생각되는데, 이게 MLR에서 input 변수로 받아들여질지 모르겠다. 안되면 정렬해서 index화해서 사용하면 될 꺼 같다.\n",
    "3.  `Customer` : 일일 방문고객수. 정수형(`int`) 변수여서 아주 좋다.\n",
    "\n",
    "이제 `set()`을 이용해 카테고리를 확인해보았던 변수\n",
    "1. `Store, DayOfWeek, Open, Promo, SchoolHoliday, Promo2` : 값만 정수지 사실 명목변수다.  \n",
    "2. `StateHoliday, StoreType, Assortment` : 심지어 값이 `str` 타입인 명목변수다.  \n",
    "이 변수들은 모두 **dummy coding** 해야한다.\n",
    "> `dummy coding`은 `1-of-c coding` 이라고도 하는데,  \n",
    "N(>3)개의 값을 갖는 명목변수라고 할 때  N-1개의 가변수를 만들고 값들을 모두 `binary` 값으로 치환해주는 작업이다. 이걸 하는 이유는 명목변수는 수학적인 모델링이 불가능하기 때문  \n",
    "\n",
    "정말 다행인 점은 10개의 매장정보만 추려오면서 특정 명목변수에서 2개의 결과만 남는 경우도 있었다.\n",
    "StoreType 와 Assortment 라는 변수인데 그 외에 원래 `binary` 값을 갖는 변수도 몇몇 있다.\n",
    "\n",
    "### 2.4 명목변수 더미코딩(dummy coding)\n",
    "pandas에서 테이블 조인하는것과 동일하게 개념적으로만 이렇게 해야한다고만 알고있고, 실제로 더미코딩을 해본 적이 없다.  \n",
    "그래서 구글에다가 `pandas dummy coding` 이라고 검색하니까 도큐먼트를 쉽게 찾을 수 있었다.  \n",
    "[pandas.get_dummies](http://pandas.pydata.org/pandas-docs/stable/generated/pandas.get_dummies.html)를 참고해서 dummy coding을 해봤다.\n",
    "\n",
    "1. 이제 target 변수를 split 할때가 됬다. Sales 변수만 빼서 y라고 하자.\n",
    "2. ~~나머지 변수는 이제 input 변수니까 X라고 하자.~~\n",
    "2. 아니 그 전에 `str` 타입으로 되어 있는 명목변수를 `int` 타입으로 변환해야 한다.\n"
   ]
  },
  {
   "cell_type": "code",
   "execution_count": 10,
   "metadata": {
    "collapsed": false
   },
   "outputs": [
    {
     "name": "stdout",
     "output_type": "stream",
     "text": [
      "Store\t{1, 2, 3, 4, 5, 6, 7, 8, 9, 10}\n",
      "DayOfWeek\t{1, 2, 3, 4, 5, 6, 7}\n",
      "Date \t pass...\n",
      "Customers \t pass...\n",
      "Open\t{0, 1}\n",
      "Promo\t{0, 1}\n",
      "StateHoliday\t{0, 1, 2, 3}\n",
      "SchoolHoliday\t{0, 1}\n",
      "dt_date \t pass...\n",
      "StoreType\t{0, 1}\n",
      "Assortment\t{0, 1}\n",
      "Promo2\t{0, 1}\n"
     ]
    }
   ],
   "source": [
    "y_train, y_test = Jtrain['Sales'], Jtest['Sales']\n",
    "del Jtrain['Sales']\n",
    "del Jtest['Sales']\n",
    "X_train, X_test = None, None\n",
    "\n",
    "replace_dic = {'StateHoliday':['0', 'a', 'b', 'c'], 'StoreType':['a', 'c'], 'Assortment':['a', 'c']}\n",
    "def replace_str2int(df, key) :\n",
    "    tmp_li = []\n",
    "    for idx in df.index.values :\n",
    "        tmp_li.append(replace_dic[key].index(df[key][idx]))\n",
    "    return tmp_li            \n",
    "for key in replace_dic.keys() :\n",
    "    Jtrain[key] = replace_str2int(Jtrain, key)\n",
    "    Jtest[key] = replace_str2int(Jtest, key)\n",
    "    \n",
    "for key in Jtrain.keys() :\n",
    "    if key in ['Sales', 'Customers', 'Date', 'dt_date'] :\n",
    "        print(\"{0} \\t pass...\".format(key))\n",
    "        continue\n",
    "    print(\"{0}\\t{1}\".format(key, set(Jtrain[key])))"
   ]
  },
  {
   "cell_type": "markdown",
   "metadata": {},
   "source": [
    "** `str` 타입의 명목변수가 `int` 타입으로 모두 변환된 것을 확인 **  \n",
    "이제 진짜 dummy coding을 할 수 있다. ~~결과를 바로 X 라고 하자.~~ ㅠㅠ"
   ]
  },
  {
   "cell_type": "code",
   "execution_count": 11,
   "metadata": {
    "collapsed": true
   },
   "outputs": [],
   "source": [
    "## X_train, X_test"
   ]
  },
  {
   "cell_type": "markdown",
   "metadata": {},
   "source": [
    "## 3. Build your own model; and then Evaluate accuracy of your model\n",
    "시간 관계상 모델링 작업까지 마치지 못했다."
   ]
  }
 ],
 "metadata": {
  "anaconda-cloud": {},
  "kernelspec": {
   "display_name": "Python [Root]",
   "language": "python",
   "name": "Python [Root]"
  },
  "language_info": {
   "codemirror_mode": {
    "name": "ipython",
    "version": 3
   },
   "file_extension": ".py",
   "mimetype": "text/x-python",
   "name": "python",
   "nbconvert_exporter": "python",
   "pygments_lexer": "ipython3",
   "version": "3.5.2"
  }
 },
 "nbformat": 4,
 "nbformat_minor": 0
}
