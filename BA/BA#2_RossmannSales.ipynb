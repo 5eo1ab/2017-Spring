{
 "cells": [
  {
   "cell_type": "markdown",
   "metadata": {},
   "source": [
    "# Rossmann Store Sales Forecasting\n",
    "**Business Analytics (Spring, 2017)**  \n",
    "서한빈(석사2) @ Data Science, Seoultech  \n",
    "\n",
    "Submit Date: 2017.3.15. (Assignment 02)"
   ]
  },
  {
   "cell_type": "markdown",
   "metadata": {},
   "source": [
    "* * *  \n",
    "## 0.1. Problem\n",
    "### 유럽의 올리브영이라는 드럭스토어 Rossmann 매출 예측 문제\n",
    "지난 과제에서 데이터를 탐색하고, 매출을 예측하는 문제를 해결해 ~~보았다.~~(보려고 했다.)\n",
    "이번 과제에서는 다시 데이터를 탐색하는 과정을 거쳐 아래 2가지 유형의 변수를 어떻게 활용해 볼 수 있을지 고민해 보는 시간을 가져보려 한다.\n",
    "\n",
    "### Assignment's Problem\n",
    "1. How to use CompetitionOpenSince[Month/Year]\n",
    "2. How to use Promo2Since[Year/Week]\n",
    "> Explain your ideas\n",
    "3. Summarize answers using a word processor"
   ]
  },
  {
   "cell_type": "markdown",
   "metadata": {},
   "source": [
    "* * *  \n",
    "## 0.2. 데이터 호출, 탐색, 정제\n",
    "\n",
    "먼저 train 데이터에 대해 정제를 해보자.\n",
    "\n",
    "#### 데이터 호출\n"
   ]
  },
  {
   "cell_type": "code",
   "execution_count": 1,
   "metadata": {
    "collapsed": false
   },
   "outputs": [
    {
     "name": "stderr",
     "output_type": "stream",
     "text": [
      "C:\\Anaconda3\\lib\\site-packages\\IPython\\core\\interactiveshell.py:2723: DtypeWarning: Columns (7) have mixed types. Specify dtype option on import or set low_memory=False.\n",
      "  interactivity=interactivity, compiler=compiler, result=result)\n"
     ]
    }
   ],
   "source": [
    "import pandas as pd\n",
    "from pandas import DataFrame as df\n",
    "import numpy as np\n",
    "\n",
    "f_dir = \"D:/course_2017_spring/BA/Data/W1_Rossmann/\"\n",
    "raw_train = pd.read_csv(f_dir+\"train.csv\")\n",
    "raw_store = pd.read_csv(f_dir+\"store.csv\")"
   ]
  },
  {
   "cell_type": "markdown",
   "metadata": {},
   "source": [
    "#### 데이터 탐색, 정제(train data)\n",
    "수업에서 확인했다 싶이, `StateHoliday` 변수에는 표현상 오류가 존재했다.  \n",
    "0을 표현하는데 있어, `str` 0과 `int` 0의 차이가 있어, 이를 모두 `str` 타입으로 통일하였다."
   ]
  },
  {
   "cell_type": "code",
   "execution_count": 2,
   "metadata": {
    "collapsed": false
   },
   "outputs": [
    {
     "name": "stdout",
     "output_type": "stream",
     "text": [
      "raw_train.dtypes :\n",
      " Store             int64\n",
      "DayOfWeek         int64\n",
      "Date             object\n",
      "Sales             int64\n",
      "Customers         int64\n",
      "Open              int64\n",
      "Promo             int64\n",
      "StateHoliday     object\n",
      "SchoolHoliday     int64\n",
      "dtype: object\n"
     ]
    },
    {
     "data": {
      "text/html": [
       "<div>\n",
       "<table border=\"1\" class=\"dataframe\">\n",
       "  <thead>\n",
       "    <tr style=\"text-align: right;\">\n",
       "      <th></th>\n",
       "      <th>Store</th>\n",
       "      <th>DayOfWeek</th>\n",
       "      <th>Date</th>\n",
       "      <th>Sales</th>\n",
       "      <th>Customers</th>\n",
       "      <th>Open</th>\n",
       "      <th>Promo</th>\n",
       "      <th>StateHoliday</th>\n",
       "      <th>SchoolHoliday</th>\n",
       "    </tr>\n",
       "  </thead>\n",
       "  <tbody>\n",
       "    <tr>\n",
       "      <th>0</th>\n",
       "      <td>1</td>\n",
       "      <td>5</td>\n",
       "      <td>2015-07-31</td>\n",
       "      <td>5263</td>\n",
       "      <td>555</td>\n",
       "      <td>1</td>\n",
       "      <td>1</td>\n",
       "      <td>0</td>\n",
       "      <td>1</td>\n",
       "    </tr>\n",
       "    <tr>\n",
       "      <th>1</th>\n",
       "      <td>2</td>\n",
       "      <td>5</td>\n",
       "      <td>2015-07-31</td>\n",
       "      <td>6064</td>\n",
       "      <td>625</td>\n",
       "      <td>1</td>\n",
       "      <td>1</td>\n",
       "      <td>0</td>\n",
       "      <td>1</td>\n",
       "    </tr>\n",
       "    <tr>\n",
       "      <th>2</th>\n",
       "      <td>3</td>\n",
       "      <td>5</td>\n",
       "      <td>2015-07-31</td>\n",
       "      <td>8314</td>\n",
       "      <td>821</td>\n",
       "      <td>1</td>\n",
       "      <td>1</td>\n",
       "      <td>0</td>\n",
       "      <td>1</td>\n",
       "    </tr>\n",
       "    <tr>\n",
       "      <th>3</th>\n",
       "      <td>4</td>\n",
       "      <td>5</td>\n",
       "      <td>2015-07-31</td>\n",
       "      <td>13995</td>\n",
       "      <td>1498</td>\n",
       "      <td>1</td>\n",
       "      <td>1</td>\n",
       "      <td>0</td>\n",
       "      <td>1</td>\n",
       "    </tr>\n",
       "    <tr>\n",
       "      <th>4</th>\n",
       "      <td>5</td>\n",
       "      <td>5</td>\n",
       "      <td>2015-07-31</td>\n",
       "      <td>4822</td>\n",
       "      <td>559</td>\n",
       "      <td>1</td>\n",
       "      <td>1</td>\n",
       "      <td>0</td>\n",
       "      <td>1</td>\n",
       "    </tr>\n",
       "  </tbody>\n",
       "</table>\n",
       "</div>"
      ],
      "text/plain": [
       "   Store  DayOfWeek        Date  Sales  Customers  Open  Promo StateHoliday  \\\n",
       "0      1          5  2015-07-31   5263        555     1      1            0   \n",
       "1      2          5  2015-07-31   6064        625     1      1            0   \n",
       "2      3          5  2015-07-31   8314        821     1      1            0   \n",
       "3      4          5  2015-07-31  13995       1498     1      1            0   \n",
       "4      5          5  2015-07-31   4822        559     1      1            0   \n",
       "\n",
       "   SchoolHoliday  \n",
       "0              1  \n",
       "1              1  \n",
       "2              1  \n",
       "3              1  \n",
       "4              1  "
      ]
     },
     "execution_count": 2,
     "metadata": {},
     "output_type": "execute_result"
    }
   ],
   "source": [
    "print(\"raw_train.dtypes :\\n\", raw_train.dtypes)\n",
    "raw_train.head()"
   ]
  },
  {
   "cell_type": "code",
   "execution_count": 3,
   "metadata": {
    "collapsed": false
   },
   "outputs": [
    {
     "name": "stdout",
     "output_type": "stream",
     "text": [
      "0    855087\n",
      "0    131072\n",
      "a     20260\n",
      "b      6690\n",
      "c      4100\n",
      "Name: StateHoliday, dtype: int64\n",
      "0    986159\n",
      "a     20260\n",
      "b      6690\n",
      "c      4100\n",
      "Name: StateHoliday, dtype: int64\n"
     ]
    }
   ],
   "source": [
    "print(raw_train['StateHoliday'].value_counts())\n",
    "raw_train.loc[raw_train.StateHoliday == 0, 'StateHoliday'] = '0'\n",
    "print(raw_train['StateHoliday'].value_counts())"
   ]
  },
  {
   "cell_type": "markdown",
   "metadata": {},
   "source": [
    "그 다음.  \n",
    "`Open` 변수가 1인것만 의미가 있다는 것을 지난 과제에서 확인했다.  \n",
    "지워버리고 `df_train` 이라는 테이블을 새로 생성했다. 왜냐면 `raw_train`은 다음에 또 쓸 꺼 같아서 새로 만드는 테이블로 작업을 하려고 하기 떄문이다.\n",
    "\n",
    "그리고 각각의 변수가 몇개의 값을 갖고 있는지 확인했다. \n",
    "명목변수 중 `binary`인 변수는 duumy coding을 할 필요가 없기 떄문이다."
   ]
  },
  {
   "cell_type": "code",
   "execution_count": 4,
   "metadata": {
    "collapsed": false
   },
   "outputs": [
    {
     "name": "stdout",
     "output_type": "stream",
     "text": [
      "Store \t 1115\n",
      "DayOfWeek \t 7\n",
      "Date \t 942\n",
      "Sales \t 21734\n",
      "Customers \t 4086\n",
      "Promo \t 2\n",
      "StateHoliday \t 4\n",
      "SchoolHoliday \t 2\n"
     ]
    }
   ],
   "source": [
    "df_train = raw_train[raw_train['Open']==1]\n",
    "del df_train['Open']\n",
    "\n",
    "for key in df_train.keys() :\n",
    "    print(key, \"\\t\", len(set(df_train[key])))"
   ]
  },
  {
   "cell_type": "markdown",
   "metadata": {},
   "source": [
    "흠...  \n",
    "보니까 대충 Promo, SchoolHoliday 변수는 `binary` 값을 갖는 변수 일 것 같다.  \n",
    "나머지 명목변수 DayOfWeek, StateHoliday 변수는 dummy coding이 필요한 부분이라 판단을 하기 충분하다고 생각된다."
   ]
  },
  {
   "cell_type": "code",
   "execution_count": 5,
   "metadata": {
    "collapsed": true
   },
   "outputs": [],
   "source": [
    "dm_DayOfWeek = pd.get_dummies(df_train['DayOfWeek'], prefix='DayOfWeek')\n",
    "dm_StateHoliday = pd.get_dummies(df_train['StateHoliday'], prefix='StateHoliday')\n",
    "df_train = df_train.drop(['DayOfWeek', 'StateHoliday'], axis=1)\n",
    "\n",
    "df_train[list(set(dm_DayOfWeek))] = dm_DayOfWeek\n",
    "df_train[list(set(dm_StateHoliday))] = dm_StateHoliday\n",
    "del df_train['Customers']"
   ]
  },
  {
   "cell_type": "markdown",
   "metadata": {},
   "source": [
    "이때, `Customers` 변수를 제외하는 이유가 있다.  \n",
    "매출을 예측하는건 '미래' 일인데, 방문고객수를 미리 알고 있다는 건 말이 안 되기 때문에 예측에서 사용할 수 없는 변수이다."
   ]
  },
  {
   "cell_type": "markdown",
   "metadata": {},
   "source": [
    "#### 데이터 탐색, 정제(store data)\n",
    "이제 train data는 적당히 본 거 같고, store data를 살펴보자."
   ]
  },
  {
   "cell_type": "code",
   "execution_count": 6,
   "metadata": {
    "collapsed": false
   },
   "outputs": [
    {
     "name": "stdout",
     "output_type": "stream",
     "text": [
      "raw_train.dtypes :\n",
      " Store                          int64\n",
      "StoreType                     object\n",
      "Assortment                    object\n",
      "CompetitionDistance          float64\n",
      "CompetitionOpenSinceMonth    float64\n",
      "CompetitionOpenSinceYear     float64\n",
      "Promo2                         int64\n",
      "Promo2SinceWeek              float64\n",
      "Promo2SinceYear              float64\n",
      "PromoInterval                 object\n",
      "dtype: object\n"
     ]
    },
    {
     "data": {
      "text/html": [
       "<div>\n",
       "<table border=\"1\" class=\"dataframe\">\n",
       "  <thead>\n",
       "    <tr style=\"text-align: right;\">\n",
       "      <th></th>\n",
       "      <th>Store</th>\n",
       "      <th>StoreType</th>\n",
       "      <th>Assortment</th>\n",
       "      <th>CompetitionDistance</th>\n",
       "      <th>CompetitionOpenSinceMonth</th>\n",
       "      <th>CompetitionOpenSinceYear</th>\n",
       "      <th>Promo2</th>\n",
       "      <th>Promo2SinceWeek</th>\n",
       "      <th>Promo2SinceYear</th>\n",
       "      <th>PromoInterval</th>\n",
       "    </tr>\n",
       "  </thead>\n",
       "  <tbody>\n",
       "    <tr>\n",
       "      <th>0</th>\n",
       "      <td>1</td>\n",
       "      <td>c</td>\n",
       "      <td>a</td>\n",
       "      <td>1270.0</td>\n",
       "      <td>9.0</td>\n",
       "      <td>2008.0</td>\n",
       "      <td>0</td>\n",
       "      <td>NaN</td>\n",
       "      <td>NaN</td>\n",
       "      <td>NaN</td>\n",
       "    </tr>\n",
       "    <tr>\n",
       "      <th>1</th>\n",
       "      <td>2</td>\n",
       "      <td>a</td>\n",
       "      <td>a</td>\n",
       "      <td>570.0</td>\n",
       "      <td>11.0</td>\n",
       "      <td>2007.0</td>\n",
       "      <td>1</td>\n",
       "      <td>13.0</td>\n",
       "      <td>2010.0</td>\n",
       "      <td>Jan,Apr,Jul,Oct</td>\n",
       "    </tr>\n",
       "    <tr>\n",
       "      <th>2</th>\n",
       "      <td>3</td>\n",
       "      <td>a</td>\n",
       "      <td>a</td>\n",
       "      <td>14130.0</td>\n",
       "      <td>12.0</td>\n",
       "      <td>2006.0</td>\n",
       "      <td>1</td>\n",
       "      <td>14.0</td>\n",
       "      <td>2011.0</td>\n",
       "      <td>Jan,Apr,Jul,Oct</td>\n",
       "    </tr>\n",
       "    <tr>\n",
       "      <th>3</th>\n",
       "      <td>4</td>\n",
       "      <td>c</td>\n",
       "      <td>c</td>\n",
       "      <td>620.0</td>\n",
       "      <td>9.0</td>\n",
       "      <td>2009.0</td>\n",
       "      <td>0</td>\n",
       "      <td>NaN</td>\n",
       "      <td>NaN</td>\n",
       "      <td>NaN</td>\n",
       "    </tr>\n",
       "    <tr>\n",
       "      <th>4</th>\n",
       "      <td>5</td>\n",
       "      <td>a</td>\n",
       "      <td>a</td>\n",
       "      <td>29910.0</td>\n",
       "      <td>4.0</td>\n",
       "      <td>2015.0</td>\n",
       "      <td>0</td>\n",
       "      <td>NaN</td>\n",
       "      <td>NaN</td>\n",
       "      <td>NaN</td>\n",
       "    </tr>\n",
       "    <tr>\n",
       "      <th>5</th>\n",
       "      <td>6</td>\n",
       "      <td>a</td>\n",
       "      <td>a</td>\n",
       "      <td>310.0</td>\n",
       "      <td>12.0</td>\n",
       "      <td>2013.0</td>\n",
       "      <td>0</td>\n",
       "      <td>NaN</td>\n",
       "      <td>NaN</td>\n",
       "      <td>NaN</td>\n",
       "    </tr>\n",
       "    <tr>\n",
       "      <th>6</th>\n",
       "      <td>7</td>\n",
       "      <td>a</td>\n",
       "      <td>c</td>\n",
       "      <td>24000.0</td>\n",
       "      <td>4.0</td>\n",
       "      <td>2013.0</td>\n",
       "      <td>0</td>\n",
       "      <td>NaN</td>\n",
       "      <td>NaN</td>\n",
       "      <td>NaN</td>\n",
       "    </tr>\n",
       "    <tr>\n",
       "      <th>7</th>\n",
       "      <td>8</td>\n",
       "      <td>a</td>\n",
       "      <td>a</td>\n",
       "      <td>7520.0</td>\n",
       "      <td>10.0</td>\n",
       "      <td>2014.0</td>\n",
       "      <td>0</td>\n",
       "      <td>NaN</td>\n",
       "      <td>NaN</td>\n",
       "      <td>NaN</td>\n",
       "    </tr>\n",
       "    <tr>\n",
       "      <th>8</th>\n",
       "      <td>9</td>\n",
       "      <td>a</td>\n",
       "      <td>c</td>\n",
       "      <td>2030.0</td>\n",
       "      <td>8.0</td>\n",
       "      <td>2000.0</td>\n",
       "      <td>0</td>\n",
       "      <td>NaN</td>\n",
       "      <td>NaN</td>\n",
       "      <td>NaN</td>\n",
       "    </tr>\n",
       "    <tr>\n",
       "      <th>9</th>\n",
       "      <td>10</td>\n",
       "      <td>a</td>\n",
       "      <td>a</td>\n",
       "      <td>3160.0</td>\n",
       "      <td>9.0</td>\n",
       "      <td>2009.0</td>\n",
       "      <td>0</td>\n",
       "      <td>NaN</td>\n",
       "      <td>NaN</td>\n",
       "      <td>NaN</td>\n",
       "    </tr>\n",
       "  </tbody>\n",
       "</table>\n",
       "</div>"
      ],
      "text/plain": [
       "   Store StoreType Assortment  CompetitionDistance  CompetitionOpenSinceMonth  \\\n",
       "0      1         c          a               1270.0                        9.0   \n",
       "1      2         a          a                570.0                       11.0   \n",
       "2      3         a          a              14130.0                       12.0   \n",
       "3      4         c          c                620.0                        9.0   \n",
       "4      5         a          a              29910.0                        4.0   \n",
       "5      6         a          a                310.0                       12.0   \n",
       "6      7         a          c              24000.0                        4.0   \n",
       "7      8         a          a               7520.0                       10.0   \n",
       "8      9         a          c               2030.0                        8.0   \n",
       "9     10         a          a               3160.0                        9.0   \n",
       "\n",
       "   CompetitionOpenSinceYear  Promo2  Promo2SinceWeek  Promo2SinceYear  \\\n",
       "0                    2008.0       0              NaN              NaN   \n",
       "1                    2007.0       1             13.0           2010.0   \n",
       "2                    2006.0       1             14.0           2011.0   \n",
       "3                    2009.0       0              NaN              NaN   \n",
       "4                    2015.0       0              NaN              NaN   \n",
       "5                    2013.0       0              NaN              NaN   \n",
       "6                    2013.0       0              NaN              NaN   \n",
       "7                    2014.0       0              NaN              NaN   \n",
       "8                    2000.0       0              NaN              NaN   \n",
       "9                    2009.0       0              NaN              NaN   \n",
       "\n",
       "     PromoInterval  \n",
       "0              NaN  \n",
       "1  Jan,Apr,Jul,Oct  \n",
       "2  Jan,Apr,Jul,Oct  \n",
       "3              NaN  \n",
       "4              NaN  \n",
       "5              NaN  \n",
       "6              NaN  \n",
       "7              NaN  \n",
       "8              NaN  \n",
       "9              NaN  "
      ]
     },
     "execution_count": 6,
     "metadata": {},
     "output_type": "execute_result"
    }
   ],
   "source": [
    "print(\"raw_train.dtypes :\\n\", raw_store.dtypes)\n",
    "raw_store.head(10)"
   ]
  },
  {
   "cell_type": "markdown",
   "metadata": {},
   "source": [
    "흠...  \n",
    "여기서 적당히 당장 써먹을 수 있는 변수는 StoreType과 Assortment라는 명목변수 밖에 보이지 않는다.  \n",
    "~~(과제를 수행하기 위한 큰 그림)~~  \n",
    "이걸 dummy coding해서 DataFrame 형식으로 만들고 table merge 해야겠다..!  \n",
    "그래서 `merge_table` 이라는 테이블을 생성했다."
   ]
  },
  {
   "cell_type": "code",
   "execution_count": 7,
   "metadata": {
    "collapsed": false
   },
   "outputs": [
    {
     "data": {
      "text/html": [
       "<div>\n",
       "<table border=\"1\" class=\"dataframe\">\n",
       "  <thead>\n",
       "    <tr style=\"text-align: right;\">\n",
       "      <th></th>\n",
       "      <th>Store</th>\n",
       "      <th>Date</th>\n",
       "      <th>Sales</th>\n",
       "      <th>Promo</th>\n",
       "      <th>SchoolHoliday</th>\n",
       "      <th>DayOfWeek_5</th>\n",
       "      <th>DayOfWeek_6</th>\n",
       "      <th>DayOfWeek_7</th>\n",
       "      <th>DayOfWeek_4</th>\n",
       "      <th>DayOfWeek_3</th>\n",
       "      <th>...</th>\n",
       "      <th>StateHoliday_c</th>\n",
       "      <th>StateHoliday_0</th>\n",
       "      <th>StateHoliday_a</th>\n",
       "      <th>StoreType_c</th>\n",
       "      <th>StoreType_b</th>\n",
       "      <th>StoreType_a</th>\n",
       "      <th>StoreType_d</th>\n",
       "      <th>Assortment_a</th>\n",
       "      <th>Assortment_c</th>\n",
       "      <th>Assortment_b</th>\n",
       "    </tr>\n",
       "  </thead>\n",
       "  <tbody>\n",
       "    <tr>\n",
       "      <th>0</th>\n",
       "      <td>1</td>\n",
       "      <td>2015-07-31</td>\n",
       "      <td>5263</td>\n",
       "      <td>1</td>\n",
       "      <td>1</td>\n",
       "      <td>0.0</td>\n",
       "      <td>0.0</td>\n",
       "      <td>0.0</td>\n",
       "      <td>0.0</td>\n",
       "      <td>1.0</td>\n",
       "      <td>...</td>\n",
       "      <td>0.0</td>\n",
       "      <td>0.0</td>\n",
       "      <td>0.0</td>\n",
       "      <td>0.0</td>\n",
       "      <td>0.0</td>\n",
       "      <td>1.0</td>\n",
       "      <td>0.0</td>\n",
       "      <td>1.0</td>\n",
       "      <td>0.0</td>\n",
       "      <td>0.0</td>\n",
       "    </tr>\n",
       "    <tr>\n",
       "      <th>1</th>\n",
       "      <td>1</td>\n",
       "      <td>2015-07-30</td>\n",
       "      <td>5020</td>\n",
       "      <td>1</td>\n",
       "      <td>1</td>\n",
       "      <td>0.0</td>\n",
       "      <td>0.0</td>\n",
       "      <td>0.0</td>\n",
       "      <td>1.0</td>\n",
       "      <td>0.0</td>\n",
       "      <td>...</td>\n",
       "      <td>0.0</td>\n",
       "      <td>0.0</td>\n",
       "      <td>0.0</td>\n",
       "      <td>0.0</td>\n",
       "      <td>0.0</td>\n",
       "      <td>1.0</td>\n",
       "      <td>0.0</td>\n",
       "      <td>1.0</td>\n",
       "      <td>0.0</td>\n",
       "      <td>0.0</td>\n",
       "    </tr>\n",
       "    <tr>\n",
       "      <th>2</th>\n",
       "      <td>1</td>\n",
       "      <td>2015-07-29</td>\n",
       "      <td>4782</td>\n",
       "      <td>1</td>\n",
       "      <td>1</td>\n",
       "      <td>0.0</td>\n",
       "      <td>0.0</td>\n",
       "      <td>1.0</td>\n",
       "      <td>0.0</td>\n",
       "      <td>0.0</td>\n",
       "      <td>...</td>\n",
       "      <td>0.0</td>\n",
       "      <td>0.0</td>\n",
       "      <td>0.0</td>\n",
       "      <td>0.0</td>\n",
       "      <td>0.0</td>\n",
       "      <td>1.0</td>\n",
       "      <td>0.0</td>\n",
       "      <td>1.0</td>\n",
       "      <td>0.0</td>\n",
       "      <td>0.0</td>\n",
       "    </tr>\n",
       "    <tr>\n",
       "      <th>3</th>\n",
       "      <td>1</td>\n",
       "      <td>2015-07-28</td>\n",
       "      <td>5011</td>\n",
       "      <td>1</td>\n",
       "      <td>1</td>\n",
       "      <td>0.0</td>\n",
       "      <td>1.0</td>\n",
       "      <td>0.0</td>\n",
       "      <td>0.0</td>\n",
       "      <td>0.0</td>\n",
       "      <td>...</td>\n",
       "      <td>0.0</td>\n",
       "      <td>0.0</td>\n",
       "      <td>0.0</td>\n",
       "      <td>0.0</td>\n",
       "      <td>0.0</td>\n",
       "      <td>1.0</td>\n",
       "      <td>0.0</td>\n",
       "      <td>1.0</td>\n",
       "      <td>0.0</td>\n",
       "      <td>0.0</td>\n",
       "    </tr>\n",
       "    <tr>\n",
       "      <th>4</th>\n",
       "      <td>1</td>\n",
       "      <td>2015-07-27</td>\n",
       "      <td>6102</td>\n",
       "      <td>1</td>\n",
       "      <td>1</td>\n",
       "      <td>1.0</td>\n",
       "      <td>0.0</td>\n",
       "      <td>0.0</td>\n",
       "      <td>0.0</td>\n",
       "      <td>0.0</td>\n",
       "      <td>...</td>\n",
       "      <td>0.0</td>\n",
       "      <td>0.0</td>\n",
       "      <td>0.0</td>\n",
       "      <td>0.0</td>\n",
       "      <td>0.0</td>\n",
       "      <td>1.0</td>\n",
       "      <td>0.0</td>\n",
       "      <td>1.0</td>\n",
       "      <td>0.0</td>\n",
       "      <td>0.0</td>\n",
       "    </tr>\n",
       "  </tbody>\n",
       "</table>\n",
       "<p>5 rows × 23 columns</p>\n",
       "</div>"
      ],
      "text/plain": [
       "   Store        Date  Sales  Promo  SchoolHoliday  DayOfWeek_5  DayOfWeek_6  \\\n",
       "0      1  2015-07-31   5263      1              1          0.0          0.0   \n",
       "1      1  2015-07-30   5020      1              1          0.0          0.0   \n",
       "2      1  2015-07-29   4782      1              1          0.0          0.0   \n",
       "3      1  2015-07-28   5011      1              1          0.0          1.0   \n",
       "4      1  2015-07-27   6102      1              1          1.0          0.0   \n",
       "\n",
       "   DayOfWeek_7  DayOfWeek_4  DayOfWeek_3      ...       StateHoliday_c  \\\n",
       "0          0.0          0.0          1.0      ...                  0.0   \n",
       "1          0.0          1.0          0.0      ...                  0.0   \n",
       "2          1.0          0.0          0.0      ...                  0.0   \n",
       "3          0.0          0.0          0.0      ...                  0.0   \n",
       "4          0.0          0.0          0.0      ...                  0.0   \n",
       "\n",
       "   StateHoliday_0  StateHoliday_a  StoreType_c  StoreType_b  StoreType_a  \\\n",
       "0             0.0             0.0          0.0          0.0          1.0   \n",
       "1             0.0             0.0          0.0          0.0          1.0   \n",
       "2             0.0             0.0          0.0          0.0          1.0   \n",
       "3             0.0             0.0          0.0          0.0          1.0   \n",
       "4             0.0             0.0          0.0          0.0          1.0   \n",
       "\n",
       "   StoreType_d  Assortment_a  Assortment_c  Assortment_b  \n",
       "0          0.0           1.0           0.0           0.0  \n",
       "1          0.0           1.0           0.0           0.0  \n",
       "2          0.0           1.0           0.0           0.0  \n",
       "3          0.0           1.0           0.0           0.0  \n",
       "4          0.0           1.0           0.0           0.0  \n",
       "\n",
       "[5 rows x 23 columns]"
      ]
     },
     "execution_count": 7,
     "metadata": {},
     "output_type": "execute_result"
    }
   ],
   "source": [
    "dm_StoreType = pd.get_dummies(raw_store['StoreType'], prefix='StoreType')\n",
    "dm_Assortment = pd.get_dummies(raw_store['Assortment'], prefix='Assortment')\n",
    "\n",
    "df_store = df()\n",
    "df_store['Store'] = raw_store['Store']\n",
    "df_store[list(set(dm_StoreType))] = dm_StoreType\n",
    "df_store[list(set(dm_Assortment))] = dm_Assortment\n",
    "\n",
    "merge_table = pd.merge(df_train, df_store, on='Store')\n",
    "merge_table.head()"
   ]
  },
  {
   "cell_type": "markdown",
   "metadata": {},
   "source": [
    "* * *  \n",
    "## 0.3. 선행 학습(pilot modeling)\n",
    "이제 1차적으로 현재까지의 데이터셋(`merge_table`)을 가지고 초벌 학습을 할꺼다.  \n",
    "~~사실 지난과제에서 수행했어야 하는 부분...~~  \n"
   ]
  },
  {
   "cell_type": "code",
   "execution_count": 8,
   "metadata": {
    "collapsed": false
   },
   "outputs": [
    {
     "name": "stderr",
     "output_type": "stream",
     "text": [
      "C:\\Anaconda3\\lib\\site-packages\\ipykernel\\__main__.py:7: UserWarning: Boolean Series key will be reindexed to match DataFrame index.\n"
     ]
    }
   ],
   "source": [
    "from datetime import datetime as dt\n",
    "tmp_idx = list(merge_table.index.values)\n",
    "dt_date = [dt.strptime(merge_table['Date'][idx], '%Y-%m-%d') for idx in tmp_idx]\n",
    "merge_table['dt_date'] = pd.Series(dt_date, index=tmp_idx)\n",
    "\n",
    "X_train = merge_table[merge_table['dt_date']<=dt(2013,12,31)]\n",
    "X_test = merge_table[merge_table['dt_date']<=dt(2014,1,7)][merge_table['dt_date']>dt(2013,12,31)]\n",
    "y_train = X_train['Sales']\n",
    "y_test = X_test['Sales']\n",
    "for key in ['Store', 'Date', 'Sales', 'dt_date'] :\n",
    "    del X_train[key]\n",
    "    del X_test[key]"
   ]
  },
  {
   "cell_type": "code",
   "execution_count": 9,
   "metadata": {
    "collapsed": false,
    "scrolled": true
   },
   "outputs": [
    {
     "data": {
      "text/plain": [
       "LinearRegression(copy_X=True, fit_intercept=True, n_jobs=1, normalize=False)"
      ]
     },
     "execution_count": 9,
     "metadata": {},
     "output_type": "execute_result"
    }
   ],
   "source": [
    "from sklearn.linear_model import LinearRegression\n",
    "mlr = LinearRegression()\n",
    "mlr.fit(X_train, y_train)"
   ]
  },
  {
   "cell_type": "code",
   "execution_count": 10,
   "metadata": {
    "collapsed": false
   },
   "outputs": [
    {
     "name": "stdout",
     "output_type": "stream",
     "text": [
      "Coefficients: \n",
      " [  2.20866465e+03   1.86297859e+02  -5.18599906e+13  -5.18599906e+13\n",
      "  -5.18599906e+13  -5.18599906e+13  -5.18599906e+13  -5.18599906e+13\n",
      "  -5.18599906e+13  -2.91452587e+11  -2.91452587e+11  -2.91452587e+11\n",
      "  -2.91452587e+11   3.27392817e+14   3.27392817e+14   3.27392817e+14\n",
      "   3.27392817e+14   2.27114755e+14   2.27114755e+14   2.27114755e+14]\n",
      "RSS: 9058306.3060\n",
      "Variance score: 0.2413\n"
     ]
    }
   ],
   "source": [
    "# The coefficients\n",
    "print('Coefficients: \\n', mlr.coef_)\n",
    "# mean square error\n",
    "print(\"RSS: %.4f\" % np.mean((mlr.predict(X_test) - y_test) ** 2))\n",
    "# Explained variance score: 1 is perfect prediction\n",
    "print('Variance score: %.4f' % mlr.score(X_test, y_test))"
   ]
  },
  {
   "cell_type": "markdown",
   "metadata": {},
   "source": [
    "* * *  \n",
    "## 1. How to use CompetitionOpenSince[Month/Year]  \n",
    "\n",
    "`Store` 테이블에 있는 `CompetitionOpenSince[Month/Year]` 변수를 다시 살펴봐야겠다."
   ]
  },
  {
   "cell_type": "code",
   "execution_count": 11,
   "metadata": {
    "collapsed": false,
    "scrolled": true
   },
   "outputs": [
    {
     "data": {
      "text/html": [
       "<div>\n",
       "<table border=\"1\" class=\"dataframe\">\n",
       "  <thead>\n",
       "    <tr style=\"text-align: right;\">\n",
       "      <th></th>\n",
       "      <th>Store</th>\n",
       "      <th>CompetitionDistance</th>\n",
       "      <th>CompetitionOpenSinceMonth</th>\n",
       "      <th>CompetitionOpenSinceYear</th>\n",
       "    </tr>\n",
       "  </thead>\n",
       "  <tbody>\n",
       "    <tr>\n",
       "      <th>0</th>\n",
       "      <td>1</td>\n",
       "      <td>1270.0</td>\n",
       "      <td>9.0</td>\n",
       "      <td>2008.0</td>\n",
       "    </tr>\n",
       "    <tr>\n",
       "      <th>1</th>\n",
       "      <td>2</td>\n",
       "      <td>570.0</td>\n",
       "      <td>11.0</td>\n",
       "      <td>2007.0</td>\n",
       "    </tr>\n",
       "    <tr>\n",
       "      <th>2</th>\n",
       "      <td>3</td>\n",
       "      <td>14130.0</td>\n",
       "      <td>12.0</td>\n",
       "      <td>2006.0</td>\n",
       "    </tr>\n",
       "    <tr>\n",
       "      <th>3</th>\n",
       "      <td>4</td>\n",
       "      <td>620.0</td>\n",
       "      <td>9.0</td>\n",
       "      <td>2009.0</td>\n",
       "    </tr>\n",
       "    <tr>\n",
       "      <th>4</th>\n",
       "      <td>5</td>\n",
       "      <td>29910.0</td>\n",
       "      <td>4.0</td>\n",
       "      <td>2015.0</td>\n",
       "    </tr>\n",
       "  </tbody>\n",
       "</table>\n",
       "</div>"
      ],
      "text/plain": [
       "   Store  CompetitionDistance  CompetitionOpenSinceMonth  \\\n",
       "0      1               1270.0                        9.0   \n",
       "1      2                570.0                       11.0   \n",
       "2      3              14130.0                       12.0   \n",
       "3      4                620.0                        9.0   \n",
       "4      5              29910.0                        4.0   \n",
       "\n",
       "   CompetitionOpenSinceYear  \n",
       "0                    2008.0  \n",
       "1                    2007.0  \n",
       "2                    2006.0  \n",
       "3                    2009.0  \n",
       "4                    2015.0  "
      ]
     },
     "execution_count": 11,
     "metadata": {},
     "output_type": "execute_result"
    }
   ],
   "source": [
    "raw_store[['Store', 'CompetitionDistance', 'CompetitionOpenSinceMonth', 'CompetitionOpenSinceYear']].head()"
   ]
  },
  {
   "cell_type": "markdown",
   "metadata": {},
   "source": [
    "왜 `float` 타입으로 되어 있는지 모르겠지만, 사실 별 타입에 대한 의미는 없다.  \n",
    "그냥 몇년도 몇월달에 경쟁사가 생겼는지에 대한 정보이고, 경쟁사와의 거리도 유의미 할 것이라고 생각된다.  \n",
    "왜냐면 수업시간에 교수님께서 언급했다싶이, 경쟁사의 업체가 상식적으로 너무 멀면 경쟁사가 없는것과 같기 때문이다.  \n",
    "  \n",
    "그래서 이걸 어떻게 활용할 수 있을까에 대해 고민해보았다.  \n",
    "일단 시계열상에서 경쟁업체가 생긴 전(before)와 후(after)에 대한 차이를 구분해 줘야 겠다.  \n",
    "1. `CompetitionOpenSinceMonth`, `CompetitionOpenSinceYear` 변수를 조합해 *`datetime`* 자료형을 만든다.\n",
    "2. 현재 working table인 `merge_table`의 `Date` 변수와 비교해 경쟁사 유무여부를 *`binary`* 변수로 표현하고자 한다."
   ]
  },
  {
   "cell_type": "code",
   "execution_count": 12,
   "metadata": {
    "collapsed": false
   },
   "outputs": [
    {
     "name": "stderr",
     "output_type": "stream",
     "text": [
      "C:\\Anaconda3\\lib\\site-packages\\ipykernel\\__main__.py:10: SettingWithCopyWarning: \n",
      "A value is trying to be set on a copy of a slice from a DataFrame.\n",
      "Try using .loc[row_indexer,col_indexer] = value instead\n",
      "\n",
      "See the caveats in the documentation: http://pandas.pydata.org/pandas-docs/stable/indexing.html#indexing-view-versus-copy\n"
     ]
    }
   ],
   "source": [
    "from math import isnan\n",
    "def get_dt_CompetitionOpen(y, m) :\n",
    "    if isnan(y) or isnan(m) :\n",
    "        return dt(1900,1,1)\n",
    "    else :\n",
    "        return dt(int(y), int(m), 1)\n",
    "df_store = raw_store[['Store', 'CompetitionDistance']]\n",
    "tmp_idx = list(df_store.index.values)\n",
    "dt_date = [get_dt_CompetitionOpen(raw_store['CompetitionOpenSinceYear'][idx], raw_store['CompetitionOpenSinceMonth'][idx]) for idx in tmp_idx]\n",
    "df_store['dt_CompetitionOpen'] = pd.Series(dt_date, index=tmp_idx)"
   ]
  },
  {
   "cell_type": "code",
   "execution_count": 13,
   "metadata": {
    "collapsed": true
   },
   "outputs": [],
   "source": [
    "def get_bin_CompetitionOpen(idx) :\n",
    "    tmp_date = merge_table['dt_date'][idx]\n",
    "    co_date = list(df_store[df_store['Store']==merge_table['Store'][idx]]['dt_CompetitionOpen'])[0]\n",
    "    if tmp_date > co_date :\n",
    "        return 1\n",
    "    else :\n",
    "        return 0\n",
    "tmp_idx = list(merge_table.index.values)\n",
    "bin_CO = [get_bin_CompetitionOpen(idx) for idx in tmp_idx]\n",
    "merge_table['bin_CompetitionOpen'] = pd.Series(bin_CO, index=tmp_idx)"
   ]
  },
  {
   "cell_type": "code",
   "execution_count": 14,
   "metadata": {
    "collapsed": false
   },
   "outputs": [
    {
     "name": "stderr",
     "output_type": "stream",
     "text": [
      "C:\\Anaconda3\\lib\\site-packages\\ipykernel\\__main__.py:2: UserWarning: Boolean Series key will be reindexed to match DataFrame index.\n",
      "  from ipykernel import kernelapp as app\n"
     ]
    },
    {
     "name": "stdout",
     "output_type": "stream",
     "text": [
      "Coefficients: \n",
      " [  2.20751207e+03   1.87393106e+02  -5.06486575e+13  -5.06486575e+13\n",
      "  -5.06486575e+13  -5.06486575e+13  -5.06486575e+13  -5.06486575e+13\n",
      "  -5.06486575e+13  -4.36240302e+11  -4.36240302e+11  -4.36240302e+11\n",
      "  -4.36240301e+11   3.08842070e+14   3.08842070e+14   3.08842070e+14\n",
      "   3.08842070e+14   2.18379181e+14   2.18379181e+14   2.18379181e+14\n",
      "  -5.95250000e+02]\n",
      "RSS: 9072523.0242\n",
      "Variance score: 0.2401\n"
     ]
    }
   ],
   "source": [
    "X_train = merge_table[merge_table['dt_date']<=dt(2013,12,31)]\n",
    "X_test = merge_table[merge_table['dt_date']<=dt(2014,1,7)][merge_table['dt_date']>dt(2013,12,31)]\n",
    "y_train = X_train['Sales']\n",
    "y_test = X_test['Sales']\n",
    "for key in ['Store', 'Date', 'Sales', 'dt_date'] :\n",
    "    del X_train[key]\n",
    "    del X_test[key]\n",
    "\n",
    "mlr = LinearRegression()\n",
    "mlr.fit(X_train, y_train)\n",
    "# The coefficients\n",
    "print('Coefficients: \\n', mlr.coef_)\n",
    "# mean square error\n",
    "print(\"RSS: %.4f\" % np.mean((mlr.predict(X_test) - y_test) ** 2))\n",
    "# Explained variance score: 1 is perfect prediction\n",
    "print('Variance score: %.4f' % mlr.score(X_test, y_test))\n"
   ]
  },
  {
   "cell_type": "markdown",
   "metadata": {},
   "source": [
    "효과는 미미했다..."
   ]
  },
  {
   "cell_type": "markdown",
   "metadata": {},
   "source": [
    "* * * \n",
    "## 2. How to use Promo2Since[Year/Week]\n",
    "\n",
    "`Store` 테이블에 있는 `Promo2Since[Year/Week]` 변수를 다시 살펴봐야겠다."
   ]
  },
  {
   "cell_type": "code",
   "execution_count": 15,
   "metadata": {
    "collapsed": false
   },
   "outputs": [
    {
     "data": {
      "text/html": [
       "<div>\n",
       "<table border=\"1\" class=\"dataframe\">\n",
       "  <thead>\n",
       "    <tr style=\"text-align: right;\">\n",
       "      <th></th>\n",
       "      <th>Store</th>\n",
       "      <th>Promo2</th>\n",
       "      <th>Promo2SinceYear</th>\n",
       "      <th>Promo2SinceWeek</th>\n",
       "    </tr>\n",
       "  </thead>\n",
       "  <tbody>\n",
       "    <tr>\n",
       "      <th>0</th>\n",
       "      <td>1</td>\n",
       "      <td>0</td>\n",
       "      <td>NaN</td>\n",
       "      <td>NaN</td>\n",
       "    </tr>\n",
       "    <tr>\n",
       "      <th>1</th>\n",
       "      <td>2</td>\n",
       "      <td>1</td>\n",
       "      <td>2010.0</td>\n",
       "      <td>13.0</td>\n",
       "    </tr>\n",
       "    <tr>\n",
       "      <th>2</th>\n",
       "      <td>3</td>\n",
       "      <td>1</td>\n",
       "      <td>2011.0</td>\n",
       "      <td>14.0</td>\n",
       "    </tr>\n",
       "    <tr>\n",
       "      <th>3</th>\n",
       "      <td>4</td>\n",
       "      <td>0</td>\n",
       "      <td>NaN</td>\n",
       "      <td>NaN</td>\n",
       "    </tr>\n",
       "    <tr>\n",
       "      <th>4</th>\n",
       "      <td>5</td>\n",
       "      <td>0</td>\n",
       "      <td>NaN</td>\n",
       "      <td>NaN</td>\n",
       "    </tr>\n",
       "  </tbody>\n",
       "</table>\n",
       "</div>"
      ],
      "text/plain": [
       "   Store  Promo2  Promo2SinceYear  Promo2SinceWeek\n",
       "0      1       0              NaN              NaN\n",
       "1      2       1           2010.0             13.0\n",
       "2      3       1           2011.0             14.0\n",
       "3      4       0              NaN              NaN\n",
       "4      5       0              NaN              NaN"
      ]
     },
     "execution_count": 15,
     "metadata": {},
     "output_type": "execute_result"
    }
   ],
   "source": [
    "raw_store[['Store', 'Promo2', 'Promo2SinceYear', 'Promo2SinceWeek']].head()"
   ]
  },
  {
   "cell_type": "markdown",
   "metadata": {},
   "source": [
    "위의 방법과 동일하게 `binary` 변수를 만들어서 처리할 방법을 생각했었다.  \n",
    "근데 이전변수에서 처리 결과가 미미한 걸 보고 별로 좋은 방법이 아니라는 생각을 했다..."
   ]
  }
 ],
 "metadata": {
  "anaconda-cloud": {},
  "kernelspec": {
   "display_name": "Python [Root]",
   "language": "python",
   "name": "Python [Root]"
  },
  "language_info": {
   "codemirror_mode": {
    "name": "ipython",
    "version": 3
   },
   "file_extension": ".py",
   "mimetype": "text/x-python",
   "name": "python",
   "nbconvert_exporter": "python",
   "pygments_lexer": "ipython3",
   "version": "3.5.2"
  }
 },
 "nbformat": 4,
 "nbformat_minor": 0
}
