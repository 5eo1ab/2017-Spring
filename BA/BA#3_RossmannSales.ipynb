{
 "cells": [
  {
   "cell_type": "markdown",
   "metadata": {},
   "source": [
    "# Rossmann Store Sales Forecasting\n",
    "**Business Analytics (Spring, 2017)**  \n",
    "서한빈(석사2) @ Data Science, Seoultech  \n",
    "\n",
    "Submit Date: 2017.3.22. (Assignment 03)"
   ]
  },
  {
   "cell_type": "markdown",
   "metadata": {},
   "source": [
    "* * *  \n",
    "## 0.1. Problem\n",
    "### 유럽의 올리브영이라는 드럭스토어 Rossmann 매출 예측 문제\n",
    "지난 과제에서 데이터를 탐색하고, 매출을 예측하는 문제를 해결해 보았다.  \n",
    "결과는 좋지 않았지만, 주어진 변수를 어떻게 활용할 수 있을지 고민해 볼 수 있는 시간이였다.  \n",
    "이번 과제에서는 `Promo2` 관련 변수를 활용해보고, 마지막으로 모델의 성능을 향상 시켜야 한다.  \n",
    "\n",
    "### Assignment's Problem\n",
    "1. Add Variables related with `Promo2`  \n",
    "  Use 'Promo2', 'Promo2Since[Year/Week]', 'PromoInterval'\n",
    "2. Use Store  \n",
    "  How to differentiate different store ?\n",
    "3. Any other ideas\n",
    "4. **Build yout own models**  \n",
    "  Compare before and after\n",
    "5. Summarize answers as slide  \n",
    "  Upload your code; Explain your process and summarize result using PowerPoint and upload the slide."
   ]
  },
  {
   "cell_type": "markdown",
   "metadata": {},
   "source": [
    "* * *  \n",
    "## 0.2. import data, preprocessing"
   ]
  },
  {
   "cell_type": "code",
   "execution_count": 1,
   "metadata": {
    "collapsed": false
   },
   "outputs": [
    {
     "name": "stderr",
     "output_type": "stream",
     "text": [
      "C:\\Anaconda3\\lib\\site-packages\\IPython\\core\\interactiveshell.py:2723: DtypeWarning: Columns (7) have mixed types. Specify dtype option on import or set low_memory=False.\n",
      "  interactivity=interactivity, compiler=compiler, result=result)\n"
     ]
    },
    {
     "data": {
      "text/html": [
       "<div>\n",
       "<table border=\"1\" class=\"dataframe\">\n",
       "  <thead>\n",
       "    <tr style=\"text-align: right;\">\n",
       "      <th></th>\n",
       "      <th>Store</th>\n",
       "      <th>Date</th>\n",
       "      <th>Sales</th>\n",
       "      <th>Promo</th>\n",
       "      <th>SchoolHoliday</th>\n",
       "      <th>DayOfWeek_4</th>\n",
       "      <th>DayOfWeek_1</th>\n",
       "      <th>DayOfWeek_6</th>\n",
       "      <th>DayOfWeek_7</th>\n",
       "      <th>DayOfWeek_2</th>\n",
       "      <th>...</th>\n",
       "      <th>StateHoliday_b</th>\n",
       "      <th>StateHoliday_0</th>\n",
       "      <th>StateHoliday_c</th>\n",
       "      <th>StoreType_c</th>\n",
       "      <th>StoreType_a</th>\n",
       "      <th>StoreType_b</th>\n",
       "      <th>StoreType_d</th>\n",
       "      <th>Assortment_b</th>\n",
       "      <th>Assortment_c</th>\n",
       "      <th>Assortment_a</th>\n",
       "    </tr>\n",
       "  </thead>\n",
       "  <tbody>\n",
       "    <tr>\n",
       "      <th>0</th>\n",
       "      <td>1</td>\n",
       "      <td>2015-07-31</td>\n",
       "      <td>5263</td>\n",
       "      <td>1</td>\n",
       "      <td>1</td>\n",
       "      <td>0.0</td>\n",
       "      <td>0.0</td>\n",
       "      <td>0.0</td>\n",
       "      <td>0.0</td>\n",
       "      <td>1.0</td>\n",
       "      <td>...</td>\n",
       "      <td>0.0</td>\n",
       "      <td>0.0</td>\n",
       "      <td>0.0</td>\n",
       "      <td>0.0</td>\n",
       "      <td>0.0</td>\n",
       "      <td>1.0</td>\n",
       "      <td>0.0</td>\n",
       "      <td>1.0</td>\n",
       "      <td>0.0</td>\n",
       "      <td>0.0</td>\n",
       "    </tr>\n",
       "    <tr>\n",
       "      <th>1</th>\n",
       "      <td>1</td>\n",
       "      <td>2015-07-30</td>\n",
       "      <td>5020</td>\n",
       "      <td>1</td>\n",
       "      <td>1</td>\n",
       "      <td>0.0</td>\n",
       "      <td>0.0</td>\n",
       "      <td>0.0</td>\n",
       "      <td>1.0</td>\n",
       "      <td>0.0</td>\n",
       "      <td>...</td>\n",
       "      <td>0.0</td>\n",
       "      <td>0.0</td>\n",
       "      <td>0.0</td>\n",
       "      <td>0.0</td>\n",
       "      <td>0.0</td>\n",
       "      <td>1.0</td>\n",
       "      <td>0.0</td>\n",
       "      <td>1.0</td>\n",
       "      <td>0.0</td>\n",
       "      <td>0.0</td>\n",
       "    </tr>\n",
       "    <tr>\n",
       "      <th>2</th>\n",
       "      <td>1</td>\n",
       "      <td>2015-07-29</td>\n",
       "      <td>4782</td>\n",
       "      <td>1</td>\n",
       "      <td>1</td>\n",
       "      <td>0.0</td>\n",
       "      <td>0.0</td>\n",
       "      <td>1.0</td>\n",
       "      <td>0.0</td>\n",
       "      <td>0.0</td>\n",
       "      <td>...</td>\n",
       "      <td>0.0</td>\n",
       "      <td>0.0</td>\n",
       "      <td>0.0</td>\n",
       "      <td>0.0</td>\n",
       "      <td>0.0</td>\n",
       "      <td>1.0</td>\n",
       "      <td>0.0</td>\n",
       "      <td>1.0</td>\n",
       "      <td>0.0</td>\n",
       "      <td>0.0</td>\n",
       "    </tr>\n",
       "    <tr>\n",
       "      <th>3</th>\n",
       "      <td>1</td>\n",
       "      <td>2015-07-28</td>\n",
       "      <td>5011</td>\n",
       "      <td>1</td>\n",
       "      <td>1</td>\n",
       "      <td>0.0</td>\n",
       "      <td>1.0</td>\n",
       "      <td>0.0</td>\n",
       "      <td>0.0</td>\n",
       "      <td>0.0</td>\n",
       "      <td>...</td>\n",
       "      <td>0.0</td>\n",
       "      <td>0.0</td>\n",
       "      <td>0.0</td>\n",
       "      <td>0.0</td>\n",
       "      <td>0.0</td>\n",
       "      <td>1.0</td>\n",
       "      <td>0.0</td>\n",
       "      <td>1.0</td>\n",
       "      <td>0.0</td>\n",
       "      <td>0.0</td>\n",
       "    </tr>\n",
       "    <tr>\n",
       "      <th>4</th>\n",
       "      <td>1</td>\n",
       "      <td>2015-07-27</td>\n",
       "      <td>6102</td>\n",
       "      <td>1</td>\n",
       "      <td>1</td>\n",
       "      <td>1.0</td>\n",
       "      <td>0.0</td>\n",
       "      <td>0.0</td>\n",
       "      <td>0.0</td>\n",
       "      <td>0.0</td>\n",
       "      <td>...</td>\n",
       "      <td>0.0</td>\n",
       "      <td>0.0</td>\n",
       "      <td>0.0</td>\n",
       "      <td>0.0</td>\n",
       "      <td>0.0</td>\n",
       "      <td>1.0</td>\n",
       "      <td>0.0</td>\n",
       "      <td>1.0</td>\n",
       "      <td>0.0</td>\n",
       "      <td>0.0</td>\n",
       "    </tr>\n",
       "  </tbody>\n",
       "</table>\n",
       "<p>5 rows × 23 columns</p>\n",
       "</div>"
      ],
      "text/plain": [
       "   Store        Date  Sales  Promo  SchoolHoliday  DayOfWeek_4  DayOfWeek_1  \\\n",
       "0      1  2015-07-31   5263      1              1          0.0          0.0   \n",
       "1      1  2015-07-30   5020      1              1          0.0          0.0   \n",
       "2      1  2015-07-29   4782      1              1          0.0          0.0   \n",
       "3      1  2015-07-28   5011      1              1          0.0          1.0   \n",
       "4      1  2015-07-27   6102      1              1          1.0          0.0   \n",
       "\n",
       "   DayOfWeek_6  DayOfWeek_7  DayOfWeek_2      ...       StateHoliday_b  \\\n",
       "0          0.0          0.0          1.0      ...                  0.0   \n",
       "1          0.0          1.0          0.0      ...                  0.0   \n",
       "2          1.0          0.0          0.0      ...                  0.0   \n",
       "3          0.0          0.0          0.0      ...                  0.0   \n",
       "4          0.0          0.0          0.0      ...                  0.0   \n",
       "\n",
       "   StateHoliday_0  StateHoliday_c  StoreType_c  StoreType_a  StoreType_b  \\\n",
       "0             0.0             0.0          0.0          0.0          1.0   \n",
       "1             0.0             0.0          0.0          0.0          1.0   \n",
       "2             0.0             0.0          0.0          0.0          1.0   \n",
       "3             0.0             0.0          0.0          0.0          1.0   \n",
       "4             0.0             0.0          0.0          0.0          1.0   \n",
       "\n",
       "   StoreType_d  Assortment_b  Assortment_c  Assortment_a  \n",
       "0          0.0           1.0           0.0           0.0  \n",
       "1          0.0           1.0           0.0           0.0  \n",
       "2          0.0           1.0           0.0           0.0  \n",
       "3          0.0           1.0           0.0           0.0  \n",
       "4          0.0           1.0           0.0           0.0  \n",
       "\n",
       "[5 rows x 23 columns]"
      ]
     },
     "execution_count": 1,
     "metadata": {},
     "output_type": "execute_result"
    }
   ],
   "source": [
    "import pandas as pd\n",
    "from pandas import DataFrame as df\n",
    "import numpy as np\n",
    "\n",
    "f_dir = \"D:/course_2017_spring/BA/Data/W1_Rossmann/\"\n",
    "raw_train = pd.read_csv(f_dir+\"train.csv\")\n",
    "raw_store = pd.read_csv(f_dir+\"store.csv\")\n",
    "raw_train.loc[raw_train.StateHoliday == 0, 'StateHoliday'] = '0'\n",
    "\n",
    "df_train = raw_train[raw_train['Open']==1]\n",
    "df_train = df_train.drop(['Open', 'Customers'], axis=1)\n",
    "\n",
    "dm_DayOfWeek = pd.get_dummies(df_train['DayOfWeek'], prefix='DayOfWeek')\n",
    "dm_StateHoliday = pd.get_dummies(df_train['StateHoliday'], prefix='StateHoliday')\n",
    "df_train[list(set(dm_DayOfWeek))] = dm_DayOfWeek\n",
    "df_train[list(set(dm_StateHoliday))] = dm_StateHoliday\n",
    "df_train = df_train.drop(['DayOfWeek', 'StateHoliday'], axis=1)\n",
    "\n",
    "dm_StoreType = pd.get_dummies(raw_store['StoreType'], prefix='StoreType')\n",
    "dm_Assortment = pd.get_dummies(raw_store['Assortment'], prefix='Assortment')\n",
    "\n",
    "df_store = df()\n",
    "df_store['Store'] = raw_store['Store']\n",
    "df_store[list(set(dm_StoreType))] = dm_StoreType\n",
    "df_store[list(set(dm_Assortment))] = dm_Assortment\n",
    "\n",
    "merge_table = pd.merge(df_train, df_store, on='Store')\n",
    "merge_table.head()"
   ]
  },
  {
   "cell_type": "markdown",
   "metadata": {},
   "source": [
    "날짜 형식의 칼럼을 수정."
   ]
  },
  {
   "cell_type": "code",
   "execution_count": 2,
   "metadata": {
    "collapsed": false
   },
   "outputs": [
    {
     "data": {
      "text/plain": [
       "Timestamp('2015-07-31 00:00:00')"
      ]
     },
     "execution_count": 2,
     "metadata": {},
     "output_type": "execute_result"
    }
   ],
   "source": [
    "merge_table['dt_date'] = pd.to_datetime(merge_table['Date'])\n",
    "merge_table['dt_date'][0]\n",
    "#del merge_table['Date']"
   ]
  },
  {
   "cell_type": "markdown",
   "metadata": {},
   "source": [
    "`CompetitionOpenSince[Month/Year]` 칼럼 조작:  \n",
    "> 경쟁업체의 오픈 여부를 단순히 변수화하는 것보다는 관측데이터의 timestampe와의 차이(SinceCompetitionOpen)를 iterval(간격) 변수로 보는 것이 좋겠다.  \n",
    "\n",
    "업계용어로 '오픈빨'이라고 불리는 것이 영향을 끼칠 것이라고 가정하기 떄문이다."
   ]
  },
  {
   "cell_type": "code",
   "execution_count": 3,
   "metadata": {
    "collapsed": false
   },
   "outputs": [
    {
     "name": "stdout",
     "output_type": "stream",
     "text": [
      "-1095 days +00:00:00 \n",
      " 42214 days 00:00:00\n"
     ]
    },
    {
     "name": "stderr",
     "output_type": "stream",
     "text": [
      "C:\\Anaconda3\\lib\\site-packages\\ipykernel\\__main__.py:7: SettingWithCopyWarning: \n",
      "A value is trying to be set on a copy of a slice from a DataFrame.\n",
      "Try using .loc[row_indexer,col_indexer] = value instead\n",
      "\n",
      "See the caveats in the documentation: http://pandas.pydata.org/pandas-docs/stable/indexing.html#indexing-view-versus-copy\n"
     ]
    },
    {
     "data": {
      "text/html": [
       "<div>\n",
       "<table border=\"1\" class=\"dataframe\">\n",
       "  <thead>\n",
       "    <tr style=\"text-align: right;\">\n",
       "      <th></th>\n",
       "      <th>Store</th>\n",
       "      <th>dt_date</th>\n",
       "      <th>Sales</th>\n",
       "      <th>CompetitionDistance</th>\n",
       "      <th>dt_CompetitionOpen</th>\n",
       "      <th>SinceCompetitionOpen</th>\n",
       "    </tr>\n",
       "  </thead>\n",
       "  <tbody>\n",
       "    <tr>\n",
       "      <th>0</th>\n",
       "      <td>1</td>\n",
       "      <td>2015-07-31</td>\n",
       "      <td>5263</td>\n",
       "      <td>1270.0</td>\n",
       "      <td>2008-09-01</td>\n",
       "      <td>2524.0</td>\n",
       "    </tr>\n",
       "    <tr>\n",
       "      <th>1</th>\n",
       "      <td>1</td>\n",
       "      <td>2015-07-30</td>\n",
       "      <td>5020</td>\n",
       "      <td>1270.0</td>\n",
       "      <td>2008-09-01</td>\n",
       "      <td>2523.0</td>\n",
       "    </tr>\n",
       "    <tr>\n",
       "      <th>2</th>\n",
       "      <td>1</td>\n",
       "      <td>2015-07-29</td>\n",
       "      <td>4782</td>\n",
       "      <td>1270.0</td>\n",
       "      <td>2008-09-01</td>\n",
       "      <td>2522.0</td>\n",
       "    </tr>\n",
       "    <tr>\n",
       "      <th>3</th>\n",
       "      <td>1</td>\n",
       "      <td>2015-07-28</td>\n",
       "      <td>5011</td>\n",
       "      <td>1270.0</td>\n",
       "      <td>2008-09-01</td>\n",
       "      <td>2521.0</td>\n",
       "    </tr>\n",
       "    <tr>\n",
       "      <th>4</th>\n",
       "      <td>1</td>\n",
       "      <td>2015-07-27</td>\n",
       "      <td>6102</td>\n",
       "      <td>1270.0</td>\n",
       "      <td>2008-09-01</td>\n",
       "      <td>2520.0</td>\n",
       "    </tr>\n",
       "  </tbody>\n",
       "</table>\n",
       "</div>"
      ],
      "text/plain": [
       "   Store    dt_date  Sales  CompetitionDistance dt_CompetitionOpen  \\\n",
       "0      1 2015-07-31   5263               1270.0         2008-09-01   \n",
       "1      1 2015-07-30   5020               1270.0         2008-09-01   \n",
       "2      1 2015-07-29   4782               1270.0         2008-09-01   \n",
       "3      1 2015-07-28   5011               1270.0         2008-09-01   \n",
       "4      1 2015-07-27   6102               1270.0         2008-09-01   \n",
       "\n",
       "   SinceCompetitionOpen  \n",
       "0                2524.0  \n",
       "1                2523.0  \n",
       "2                2522.0  \n",
       "3                2521.0  \n",
       "4                2520.0  "
      ]
     },
     "execution_count": 3,
     "metadata": {},
     "output_type": "execute_result"
    }
   ],
   "source": [
    "test_record = merge_table[['Store', 'dt_date', 'Sales']]\n",
    "test_store = raw_store[['Store', 'CompetitionDistance', 'CompetitionOpenSinceMonth', 'CompetitionOpenSinceYear']]\n",
    "#test_store.head()\n",
    "arr_year = test_store['CompetitionOpenSinceYear'].fillna(test_store['CompetitionOpenSinceYear'].max()+1).astype('int').astype('str')\n",
    "arr_month = test_store['CompetitionOpenSinceMonth'].fillna(test_store['CompetitionOpenSinceMonth'].min()).astype('int').astype('str')\n",
    "arr_dt = arr_year+'-'+arr_month\n",
    "test_store['dt_CompetitionOpen'] = pd.to_datetime(arr_dt)\n",
    "test_store = test_store.drop(['CompetitionOpenSinceMonth', 'CompetitionOpenSinceYear'], axis=1)\n",
    "#test_store.head()\n",
    "\n",
    "test_merge = pd.merge(test_record, test_store, on='Store')\n",
    "test_merge['SinceCompetitionOpen'] = test_merge['dt_date'] - test_merge['dt_CompetitionOpen']\n",
    "print(test_merge['SinceCompetitionOpen'].min(), \"\\n\", test_merge['SinceCompetitionOpen'].max())\n",
    "test_merge['SinceCompetitionOpen'] = test_merge['SinceCompetitionOpen'].astype('timedelta64[D]')\n",
    "test_merge.head()"
   ]
  },
  {
   "cell_type": "code",
   "execution_count": 4,
   "metadata": {
    "collapsed": false
   },
   "outputs": [
    {
     "name": "stderr",
     "output_type": "stream",
     "text": [
      "C:\\Anaconda3\\lib\\site-packages\\statsmodels\\nonparametric\\kdetools.py:20: VisibleDeprecationWarning: using a non-integer number instead of an integer will result in an error in the future\n",
      "  y = X[:m/2+1] + np.r_[0,X[m/2+1:],0]*1j\n"
     ]
    },
    {
     "data": {
      "text/plain": [
       "<matplotlib.axes._subplots.AxesSubplot at 0x14745de8e10>"
      ]
     },
     "execution_count": 4,
     "metadata": {},
     "output_type": "execute_result"
    }
   ],
   "source": [
    "import seaborn as sns\n",
    "sns.distplot(test_merge[test_merge['SinceCompetitionOpen']>0]['SinceCompetitionOpen'])"
   ]
  },
  {
   "cell_type": "code",
   "execution_count": 5,
   "metadata": {
    "collapsed": false,
    "scrolled": true
   },
   "outputs": [
    {
     "name": "stderr",
     "output_type": "stream",
     "text": [
      "C:\\Anaconda3\\lib\\site-packages\\statsmodels\\nonparametric\\kdetools.py:20: VisibleDeprecationWarning: using a non-integer number instead of an integer will result in an error in the future\n",
      "  y = X[:m/2+1] + np.r_[0,X[m/2+1:],0]*1j\n"
     ]
    },
    {
     "data": {
      "text/plain": [
       "<matplotlib.axes._subplots.AxesSubplot at 0x14745de8e10>"
      ]
     },
     "execution_count": 5,
     "metadata": {},
     "output_type": "execute_result"
    }
   ],
   "source": [
    "import seaborn as sns\n",
    "sns.distplot(test_merge[test_merge['SinceCompetitionOpen']<0]['SinceCompetitionOpen'])\n",
    "#sns.distplot(test_merge[test_merge['SinceCompetitionOpen']>0]['SinceCompetitionOpen'])"
   ]
  },
  {
   "cell_type": "markdown",
   "metadata": {},
   "source": [
    "먼저 `SinceCompetitionOpen` 변수가 *음수* 일때는 경쟁업체가 그 시점에 존재하지 않는다는 것이다.  \n",
    "이럴경우에는 경쟁업체에 대한 고려는 배제해도 무관 할 것이라고 생각된다.\n",
    "\n",
    "따라서, `SinceCompetitionOpen` 변수는 *양수* 일때는 과거시점, *음수* 일때는 미래시점.  \n",
    "0 일때는 현재시점과 동일하기 떄문에, **값이 크면 클수록 영향력은 작아질 것이다** 라고 가정 할 수 있다.  \n",
    "따라서 *음수* 일때의  `SinceCompetitionOpen` 변수는 모두 max() 값으로 대체할 수 있을 것이다."
   ]
  },
  {
   "cell_type": "code",
   "execution_count": 6,
   "metadata": {
    "collapsed": false
   },
   "outputs": [
    {
     "name": "stderr",
     "output_type": "stream",
     "text": [
      "C:\\Anaconda3\\lib\\site-packages\\ipykernel\\__main__.py:2: SettingWithCopyWarning: \n",
      "A value is trying to be set on a copy of a slice from a DataFrame\n",
      "\n",
      "See the caveats in the documentation: http://pandas.pydata.org/pandas-docs/stable/indexing.html#indexing-view-versus-copy\n",
      "  from ipykernel import kernelapp as app\n",
      "C:\\Anaconda3\\lib\\site-packages\\statsmodels\\nonparametric\\kdetools.py:20: VisibleDeprecationWarning: using a non-integer number instead of an integer will result in an error in the future\n",
      "  y = X[:m/2+1] + np.r_[0,X[m/2+1:],0]*1j\n"
     ]
    },
    {
     "data": {
      "text/plain": [
       "<matplotlib.axes._subplots.AxesSubplot at 0x14745de8e10>"
      ]
     },
     "execution_count": 6,
     "metadata": {},
     "output_type": "execute_result"
    }
   ],
   "source": [
    "#test_merge[test_merge['SinceCompetitionOpen']<0].index\n",
    "test_merge['SinceCompetitionOpen'][test_merge[test_merge['SinceCompetitionOpen']<0].index] = test_merge['SinceCompetitionOpen'].max()+1\n",
    "\n",
    "sns.distplot(test_merge[test_merge['SinceCompetitionOpen']>0]['SinceCompetitionOpen'])"
   ]
  },
  {
   "cell_type": "markdown",
   "metadata": {},
   "source": [
    "이와 비슷하게 :  \n",
    "  \n",
    "`SinceCompetitionOpen` 변수와 동일하게 거리에 대한 변수 `CompetitionDistance` 또한  \n",
    "멀면 멀수록 영향력이 작다고 생각하고, null 값을 최대값보다 크게 대체할 수 있다.  "
   ]
  },
  {
   "cell_type": "code",
   "execution_count": 7,
   "metadata": {
    "collapsed": false
   },
   "outputs": [
    {
     "data": {
      "text/html": [
       "<div>\n",
       "<table border=\"1\" class=\"dataframe\">\n",
       "  <thead>\n",
       "    <tr style=\"text-align: right;\">\n",
       "      <th></th>\n",
       "      <th>Store</th>\n",
       "      <th>dt_date</th>\n",
       "      <th>Sales</th>\n",
       "      <th>CompetitionDistance</th>\n",
       "      <th>dt_CompetitionOpen</th>\n",
       "      <th>SinceCompetitionOpen</th>\n",
       "    </tr>\n",
       "  </thead>\n",
       "  <tbody>\n",
       "    <tr>\n",
       "      <th>0</th>\n",
       "      <td>1</td>\n",
       "      <td>2015-07-31</td>\n",
       "      <td>5263</td>\n",
       "      <td>1270.0</td>\n",
       "      <td>2008-09-01</td>\n",
       "      <td>2524.0</td>\n",
       "    </tr>\n",
       "    <tr>\n",
       "      <th>1</th>\n",
       "      <td>1</td>\n",
       "      <td>2015-07-30</td>\n",
       "      <td>5020</td>\n",
       "      <td>1270.0</td>\n",
       "      <td>2008-09-01</td>\n",
       "      <td>2523.0</td>\n",
       "    </tr>\n",
       "    <tr>\n",
       "      <th>2</th>\n",
       "      <td>1</td>\n",
       "      <td>2015-07-29</td>\n",
       "      <td>4782</td>\n",
       "      <td>1270.0</td>\n",
       "      <td>2008-09-01</td>\n",
       "      <td>2522.0</td>\n",
       "    </tr>\n",
       "    <tr>\n",
       "      <th>3</th>\n",
       "      <td>1</td>\n",
       "      <td>2015-07-28</td>\n",
       "      <td>5011</td>\n",
       "      <td>1270.0</td>\n",
       "      <td>2008-09-01</td>\n",
       "      <td>2521.0</td>\n",
       "    </tr>\n",
       "    <tr>\n",
       "      <th>4</th>\n",
       "      <td>1</td>\n",
       "      <td>2015-07-27</td>\n",
       "      <td>6102</td>\n",
       "      <td>1270.0</td>\n",
       "      <td>2008-09-01</td>\n",
       "      <td>2520.0</td>\n",
       "    </tr>\n",
       "  </tbody>\n",
       "</table>\n",
       "</div>"
      ],
      "text/plain": [
       "   Store    dt_date  Sales  CompetitionDistance dt_CompetitionOpen  \\\n",
       "0      1 2015-07-31   5263               1270.0         2008-09-01   \n",
       "1      1 2015-07-30   5020               1270.0         2008-09-01   \n",
       "2      1 2015-07-29   4782               1270.0         2008-09-01   \n",
       "3      1 2015-07-28   5011               1270.0         2008-09-01   \n",
       "4      1 2015-07-27   6102               1270.0         2008-09-01   \n",
       "\n",
       "   SinceCompetitionOpen  \n",
       "0                2524.0  \n",
       "1                2523.0  \n",
       "2                2522.0  \n",
       "3                2521.0  \n",
       "4                2520.0  "
      ]
     },
     "execution_count": 7,
     "metadata": {},
     "output_type": "execute_result"
    }
   ],
   "source": [
    "#test_merge['CompetitionDistance'].head()\n",
    "arr_dist = test_merge['CompetitionDistance'].fillna(test_merge['CompetitionDistance'].max()+1)\n",
    "test_merge['CompetitionDistance'] = arr_dist\n",
    "test_merge.head()"
   ]
  },
  {
   "cell_type": "markdown",
   "metadata": {},
   "source": [
    "결과적으로 **`test_merge`** 테이블에서 `CompetitionDistance`와 `SinceCompetitionOpen` 변수를 사용할 수 있을 것으로 보인다.  \n",
    "메인 데이터셋인 **`merge_table`**에 값을 붙이도록 한다."
   ]
  },
  {
   "cell_type": "code",
   "execution_count": 8,
   "metadata": {
    "collapsed": false
   },
   "outputs": [
    {
     "data": {
      "text/html": [
       "<div>\n",
       "<table border=\"1\" class=\"dataframe\">\n",
       "  <thead>\n",
       "    <tr style=\"text-align: right;\">\n",
       "      <th></th>\n",
       "      <th>Store</th>\n",
       "      <th>Date</th>\n",
       "      <th>Sales</th>\n",
       "      <th>Promo</th>\n",
       "      <th>SchoolHoliday</th>\n",
       "      <th>DayOfWeek_4</th>\n",
       "      <th>DayOfWeek_1</th>\n",
       "      <th>DayOfWeek_6</th>\n",
       "      <th>DayOfWeek_7</th>\n",
       "      <th>DayOfWeek_2</th>\n",
       "      <th>...</th>\n",
       "      <th>StoreType_c</th>\n",
       "      <th>StoreType_a</th>\n",
       "      <th>StoreType_b</th>\n",
       "      <th>StoreType_d</th>\n",
       "      <th>Assortment_b</th>\n",
       "      <th>Assortment_c</th>\n",
       "      <th>Assortment_a</th>\n",
       "      <th>dt_date</th>\n",
       "      <th>CompetitionDistance</th>\n",
       "      <th>SinceCompetitionOpen</th>\n",
       "    </tr>\n",
       "  </thead>\n",
       "  <tbody>\n",
       "    <tr>\n",
       "      <th>0</th>\n",
       "      <td>1</td>\n",
       "      <td>2015-07-31</td>\n",
       "      <td>5263</td>\n",
       "      <td>1</td>\n",
       "      <td>1</td>\n",
       "      <td>0.0</td>\n",
       "      <td>0.0</td>\n",
       "      <td>0.0</td>\n",
       "      <td>0.0</td>\n",
       "      <td>1.0</td>\n",
       "      <td>...</td>\n",
       "      <td>0.0</td>\n",
       "      <td>0.0</td>\n",
       "      <td>1.0</td>\n",
       "      <td>0.0</td>\n",
       "      <td>1.0</td>\n",
       "      <td>0.0</td>\n",
       "      <td>0.0</td>\n",
       "      <td>2015-07-31</td>\n",
       "      <td>1270.0</td>\n",
       "      <td>2524.0</td>\n",
       "    </tr>\n",
       "    <tr>\n",
       "      <th>1</th>\n",
       "      <td>1</td>\n",
       "      <td>2015-07-30</td>\n",
       "      <td>5020</td>\n",
       "      <td>1</td>\n",
       "      <td>1</td>\n",
       "      <td>0.0</td>\n",
       "      <td>0.0</td>\n",
       "      <td>0.0</td>\n",
       "      <td>1.0</td>\n",
       "      <td>0.0</td>\n",
       "      <td>...</td>\n",
       "      <td>0.0</td>\n",
       "      <td>0.0</td>\n",
       "      <td>1.0</td>\n",
       "      <td>0.0</td>\n",
       "      <td>1.0</td>\n",
       "      <td>0.0</td>\n",
       "      <td>0.0</td>\n",
       "      <td>2015-07-30</td>\n",
       "      <td>1270.0</td>\n",
       "      <td>2523.0</td>\n",
       "    </tr>\n",
       "    <tr>\n",
       "      <th>2</th>\n",
       "      <td>1</td>\n",
       "      <td>2015-07-29</td>\n",
       "      <td>4782</td>\n",
       "      <td>1</td>\n",
       "      <td>1</td>\n",
       "      <td>0.0</td>\n",
       "      <td>0.0</td>\n",
       "      <td>1.0</td>\n",
       "      <td>0.0</td>\n",
       "      <td>0.0</td>\n",
       "      <td>...</td>\n",
       "      <td>0.0</td>\n",
       "      <td>0.0</td>\n",
       "      <td>1.0</td>\n",
       "      <td>0.0</td>\n",
       "      <td>1.0</td>\n",
       "      <td>0.0</td>\n",
       "      <td>0.0</td>\n",
       "      <td>2015-07-29</td>\n",
       "      <td>1270.0</td>\n",
       "      <td>2522.0</td>\n",
       "    </tr>\n",
       "    <tr>\n",
       "      <th>3</th>\n",
       "      <td>1</td>\n",
       "      <td>2015-07-28</td>\n",
       "      <td>5011</td>\n",
       "      <td>1</td>\n",
       "      <td>1</td>\n",
       "      <td>0.0</td>\n",
       "      <td>1.0</td>\n",
       "      <td>0.0</td>\n",
       "      <td>0.0</td>\n",
       "      <td>0.0</td>\n",
       "      <td>...</td>\n",
       "      <td>0.0</td>\n",
       "      <td>0.0</td>\n",
       "      <td>1.0</td>\n",
       "      <td>0.0</td>\n",
       "      <td>1.0</td>\n",
       "      <td>0.0</td>\n",
       "      <td>0.0</td>\n",
       "      <td>2015-07-28</td>\n",
       "      <td>1270.0</td>\n",
       "      <td>2521.0</td>\n",
       "    </tr>\n",
       "    <tr>\n",
       "      <th>4</th>\n",
       "      <td>1</td>\n",
       "      <td>2015-07-27</td>\n",
       "      <td>6102</td>\n",
       "      <td>1</td>\n",
       "      <td>1</td>\n",
       "      <td>1.0</td>\n",
       "      <td>0.0</td>\n",
       "      <td>0.0</td>\n",
       "      <td>0.0</td>\n",
       "      <td>0.0</td>\n",
       "      <td>...</td>\n",
       "      <td>0.0</td>\n",
       "      <td>0.0</td>\n",
       "      <td>1.0</td>\n",
       "      <td>0.0</td>\n",
       "      <td>1.0</td>\n",
       "      <td>0.0</td>\n",
       "      <td>0.0</td>\n",
       "      <td>2015-07-27</td>\n",
       "      <td>1270.0</td>\n",
       "      <td>2520.0</td>\n",
       "    </tr>\n",
       "  </tbody>\n",
       "</table>\n",
       "<p>5 rows × 26 columns</p>\n",
       "</div>"
      ],
      "text/plain": [
       "   Store        Date  Sales  Promo  SchoolHoliday  DayOfWeek_4  DayOfWeek_1  \\\n",
       "0      1  2015-07-31   5263      1              1          0.0          0.0   \n",
       "1      1  2015-07-30   5020      1              1          0.0          0.0   \n",
       "2      1  2015-07-29   4782      1              1          0.0          0.0   \n",
       "3      1  2015-07-28   5011      1              1          0.0          1.0   \n",
       "4      1  2015-07-27   6102      1              1          1.0          0.0   \n",
       "\n",
       "   DayOfWeek_6  DayOfWeek_7  DayOfWeek_2          ...           StoreType_c  \\\n",
       "0          0.0          0.0          1.0          ...                   0.0   \n",
       "1          0.0          1.0          0.0          ...                   0.0   \n",
       "2          1.0          0.0          0.0          ...                   0.0   \n",
       "3          0.0          0.0          0.0          ...                   0.0   \n",
       "4          0.0          0.0          0.0          ...                   0.0   \n",
       "\n",
       "   StoreType_a  StoreType_b  StoreType_d  Assortment_b  Assortment_c  \\\n",
       "0          0.0          1.0          0.0           1.0           0.0   \n",
       "1          0.0          1.0          0.0           1.0           0.0   \n",
       "2          0.0          1.0          0.0           1.0           0.0   \n",
       "3          0.0          1.0          0.0           1.0           0.0   \n",
       "4          0.0          1.0          0.0           1.0           0.0   \n",
       "\n",
       "   Assortment_a    dt_date  CompetitionDistance  SinceCompetitionOpen  \n",
       "0           0.0 2015-07-31               1270.0                2524.0  \n",
       "1           0.0 2015-07-30               1270.0                2523.0  \n",
       "2           0.0 2015-07-29               1270.0                2522.0  \n",
       "3           0.0 2015-07-28               1270.0                2521.0  \n",
       "4           0.0 2015-07-27               1270.0                2520.0  \n",
       "\n",
       "[5 rows x 26 columns]"
      ]
     },
     "execution_count": 8,
     "metadata": {},
     "output_type": "execute_result"
    }
   ],
   "source": [
    "merge_table['CompetitionDistance'] = test_merge['CompetitionDistance']\n",
    "merge_table['SinceCompetitionOpen'] = test_merge['SinceCompetitionOpen']\n",
    "merge_table.head()"
   ]
  },
  {
   "cell_type": "markdown",
   "metadata": {},
   "source": [
    "* * *\n",
    "## 0.3 pilot modeling\n",
    "모델성능 비교를 위해 1차적으로 `mlr`을 시행하려고 한다.  \n",
    "먼저 input 데이터와 target 데이터를 분리하고, train 데이터와 test 데이터를 분할하고자 한다.  \n",
    "- train 데이터는 2013년부터 2014년 까지의 데이터.\n",
    "- test 데이터는 2015년 상반기(1/1~7/31) 데이터를 사용하고자 한다."
   ]
  },
  {
   "cell_type": "code",
   "execution_count": 9,
   "metadata": {
    "collapsed": false
   },
   "outputs": [
    {
     "data": {
      "text/html": [
       "<div>\n",
       "<table border=\"1\" class=\"dataframe\">\n",
       "  <thead>\n",
       "    <tr style=\"text-align: right;\">\n",
       "      <th></th>\n",
       "      <th>Promo</th>\n",
       "      <th>SchoolHoliday</th>\n",
       "      <th>DayOfWeek_4</th>\n",
       "      <th>DayOfWeek_1</th>\n",
       "      <th>DayOfWeek_6</th>\n",
       "      <th>DayOfWeek_7</th>\n",
       "      <th>DayOfWeek_2</th>\n",
       "      <th>DayOfWeek_5</th>\n",
       "      <th>DayOfWeek_3</th>\n",
       "      <th>StateHoliday_a</th>\n",
       "      <th>...</th>\n",
       "      <th>StateHoliday_c</th>\n",
       "      <th>StoreType_c</th>\n",
       "      <th>StoreType_a</th>\n",
       "      <th>StoreType_b</th>\n",
       "      <th>StoreType_d</th>\n",
       "      <th>Assortment_b</th>\n",
       "      <th>Assortment_c</th>\n",
       "      <th>Assortment_a</th>\n",
       "      <th>CompetitionDistance</th>\n",
       "      <th>SinceCompetitionOpen</th>\n",
       "    </tr>\n",
       "  </thead>\n",
       "  <tbody>\n",
       "    <tr>\n",
       "      <th>175</th>\n",
       "      <td>0</td>\n",
       "      <td>1</td>\n",
       "      <td>0.0</td>\n",
       "      <td>0.0</td>\n",
       "      <td>1.0</td>\n",
       "      <td>0.0</td>\n",
       "      <td>0.0</td>\n",
       "      <td>0.0</td>\n",
       "      <td>0.0</td>\n",
       "      <td>1.0</td>\n",
       "      <td>...</td>\n",
       "      <td>0.0</td>\n",
       "      <td>0.0</td>\n",
       "      <td>0.0</td>\n",
       "      <td>1.0</td>\n",
       "      <td>0.0</td>\n",
       "      <td>1.0</td>\n",
       "      <td>0.0</td>\n",
       "      <td>0.0</td>\n",
       "      <td>1270.0</td>\n",
       "      <td>2312.0</td>\n",
       "    </tr>\n",
       "    <tr>\n",
       "      <th>176</th>\n",
       "      <td>0</td>\n",
       "      <td>1</td>\n",
       "      <td>0.0</td>\n",
       "      <td>1.0</td>\n",
       "      <td>0.0</td>\n",
       "      <td>0.0</td>\n",
       "      <td>0.0</td>\n",
       "      <td>0.0</td>\n",
       "      <td>0.0</td>\n",
       "      <td>1.0</td>\n",
       "      <td>...</td>\n",
       "      <td>0.0</td>\n",
       "      <td>0.0</td>\n",
       "      <td>0.0</td>\n",
       "      <td>1.0</td>\n",
       "      <td>0.0</td>\n",
       "      <td>1.0</td>\n",
       "      <td>0.0</td>\n",
       "      <td>0.0</td>\n",
       "      <td>1270.0</td>\n",
       "      <td>2311.0</td>\n",
       "    </tr>\n",
       "    <tr>\n",
       "      <th>177</th>\n",
       "      <td>0</td>\n",
       "      <td>1</td>\n",
       "      <td>1.0</td>\n",
       "      <td>0.0</td>\n",
       "      <td>0.0</td>\n",
       "      <td>0.0</td>\n",
       "      <td>0.0</td>\n",
       "      <td>0.0</td>\n",
       "      <td>0.0</td>\n",
       "      <td>1.0</td>\n",
       "      <td>...</td>\n",
       "      <td>0.0</td>\n",
       "      <td>0.0</td>\n",
       "      <td>0.0</td>\n",
       "      <td>1.0</td>\n",
       "      <td>0.0</td>\n",
       "      <td>1.0</td>\n",
       "      <td>0.0</td>\n",
       "      <td>0.0</td>\n",
       "      <td>1270.0</td>\n",
       "      <td>2310.0</td>\n",
       "    </tr>\n",
       "    <tr>\n",
       "      <th>178</th>\n",
       "      <td>0</td>\n",
       "      <td>1</td>\n",
       "      <td>0.0</td>\n",
       "      <td>0.0</td>\n",
       "      <td>0.0</td>\n",
       "      <td>0.0</td>\n",
       "      <td>0.0</td>\n",
       "      <td>1.0</td>\n",
       "      <td>0.0</td>\n",
       "      <td>1.0</td>\n",
       "      <td>...</td>\n",
       "      <td>0.0</td>\n",
       "      <td>0.0</td>\n",
       "      <td>0.0</td>\n",
       "      <td>1.0</td>\n",
       "      <td>0.0</td>\n",
       "      <td>1.0</td>\n",
       "      <td>0.0</td>\n",
       "      <td>0.0</td>\n",
       "      <td>1270.0</td>\n",
       "      <td>2308.0</td>\n",
       "    </tr>\n",
       "    <tr>\n",
       "      <th>179</th>\n",
       "      <td>0</td>\n",
       "      <td>1</td>\n",
       "      <td>0.0</td>\n",
       "      <td>0.0</td>\n",
       "      <td>1.0</td>\n",
       "      <td>0.0</td>\n",
       "      <td>0.0</td>\n",
       "      <td>0.0</td>\n",
       "      <td>0.0</td>\n",
       "      <td>1.0</td>\n",
       "      <td>...</td>\n",
       "      <td>0.0</td>\n",
       "      <td>0.0</td>\n",
       "      <td>0.0</td>\n",
       "      <td>1.0</td>\n",
       "      <td>0.0</td>\n",
       "      <td>1.0</td>\n",
       "      <td>0.0</td>\n",
       "      <td>0.0</td>\n",
       "      <td>1270.0</td>\n",
       "      <td>2305.0</td>\n",
       "    </tr>\n",
       "  </tbody>\n",
       "</table>\n",
       "<p>5 rows × 22 columns</p>\n",
       "</div>"
      ],
      "text/plain": [
       "     Promo  SchoolHoliday  DayOfWeek_4  DayOfWeek_1  DayOfWeek_6  DayOfWeek_7  \\\n",
       "175      0              1          0.0          0.0          1.0          0.0   \n",
       "176      0              1          0.0          1.0          0.0          0.0   \n",
       "177      0              1          1.0          0.0          0.0          0.0   \n",
       "178      0              1          0.0          0.0          0.0          0.0   \n",
       "179      0              1          0.0          0.0          1.0          0.0   \n",
       "\n",
       "     DayOfWeek_2  DayOfWeek_5  DayOfWeek_3  StateHoliday_a  \\\n",
       "175          0.0          0.0          0.0             1.0   \n",
       "176          0.0          0.0          0.0             1.0   \n",
       "177          0.0          0.0          0.0             1.0   \n",
       "178          0.0          1.0          0.0             1.0   \n",
       "179          0.0          0.0          0.0             1.0   \n",
       "\n",
       "             ...           StateHoliday_c  StoreType_c  StoreType_a  \\\n",
       "175          ...                      0.0          0.0          0.0   \n",
       "176          ...                      0.0          0.0          0.0   \n",
       "177          ...                      0.0          0.0          0.0   \n",
       "178          ...                      0.0          0.0          0.0   \n",
       "179          ...                      0.0          0.0          0.0   \n",
       "\n",
       "     StoreType_b  StoreType_d  Assortment_b  Assortment_c  Assortment_a  \\\n",
       "175          1.0          0.0           1.0           0.0           0.0   \n",
       "176          1.0          0.0           1.0           0.0           0.0   \n",
       "177          1.0          0.0           1.0           0.0           0.0   \n",
       "178          1.0          0.0           1.0           0.0           0.0   \n",
       "179          1.0          0.0           1.0           0.0           0.0   \n",
       "\n",
       "     CompetitionDistance  SinceCompetitionOpen  \n",
       "175               1270.0                2312.0  \n",
       "176               1270.0                2311.0  \n",
       "177               1270.0                2310.0  \n",
       "178               1270.0                2308.0  \n",
       "179               1270.0                2305.0  \n",
       "\n",
       "[5 rows x 22 columns]"
      ]
     },
     "execution_count": 9,
     "metadata": {},
     "output_type": "execute_result"
    }
   ],
   "source": [
    "from datetime import datetime as dt\n",
    "X = merge_table.drop([\"Store\", \"Date\", \"Sales\"], axis=1)\n",
    "X_train, X_test = X[X['dt_date']<dt(2015,1,1)], X[X['dt_date']>=dt(2015,1,1)]\n",
    "X_train, X_test = X_train.drop([\"dt_date\"], axis=1), X_test.drop([\"dt_date\"], axis=1)\n",
    "X_train.head()"
   ]
  },
  {
   "cell_type": "code",
   "execution_count": 10,
   "metadata": {
    "collapsed": false
   },
   "outputs": [
    {
     "data": {
      "text/html": [
       "<div>\n",
       "<table border=\"1\" class=\"dataframe\">\n",
       "  <thead>\n",
       "    <tr style=\"text-align: right;\">\n",
       "      <th></th>\n",
       "      <th>Sales</th>\n",
       "    </tr>\n",
       "  </thead>\n",
       "  <tbody>\n",
       "    <tr>\n",
       "      <th>175</th>\n",
       "      <td>2605</td>\n",
       "    </tr>\n",
       "    <tr>\n",
       "      <th>176</th>\n",
       "      <td>6466</td>\n",
       "    </tr>\n",
       "    <tr>\n",
       "      <th>177</th>\n",
       "      <td>6463</td>\n",
       "    </tr>\n",
       "    <tr>\n",
       "      <th>178</th>\n",
       "      <td>6057</td>\n",
       "    </tr>\n",
       "    <tr>\n",
       "      <th>179</th>\n",
       "      <td>3659</td>\n",
       "    </tr>\n",
       "  </tbody>\n",
       "</table>\n",
       "</div>"
      ],
      "text/plain": [
       "     Sales\n",
       "175   2605\n",
       "176   6466\n",
       "177   6463\n",
       "178   6057\n",
       "179   3659"
      ]
     },
     "execution_count": 10,
     "metadata": {},
     "output_type": "execute_result"
    }
   ],
   "source": [
    "y = merge_table[[\"Sales\", \"dt_date\"]]\n",
    "y_train, y_test = y[y['dt_date']<dt(2015,1,1)], y[y['dt_date']>=dt(2015,1,1)]\n",
    "y_train, y_test = y_train.drop([\"dt_date\"], axis=1), y_test.drop([\"dt_date\"], axis=1)\n",
    "y_train.head()"
   ]
  },
  {
   "cell_type": "code",
   "execution_count": 11,
   "metadata": {
    "collapsed": false
   },
   "outputs": [
    {
     "data": {
      "text/plain": [
       "LinearRegression(copy_X=True, fit_intercept=True, n_jobs=1, normalize=False)"
      ]
     },
     "execution_count": 11,
     "metadata": {},
     "output_type": "execute_result"
    }
   ],
   "source": [
    "from sklearn.linear_model import LinearRegression\n",
    "mlr = LinearRegression()\n",
    "mlr.fit(X_train, y_train)"
   ]
  },
  {
   "cell_type": "code",
   "execution_count": 12,
   "metadata": {
    "collapsed": false
   },
   "outputs": [
    {
     "name": "stdout",
     "output_type": "stream",
     "text": [
      "Coefficients: \n",
      " [[  2.30049989e+03   1.64468851e+02   1.00124533e+03  -1.06257263e+02\n",
      "   -4.75005130e+02  -4.51703138e+02  -6.27426254e+01  -6.00715862e+01\n",
      "    1.54534417e+02  -2.26495982e+02  -1.12258802e+02  -3.61994635e+02\n",
      "    7.00749419e+02  -1.22086197e+03   4.12105630e+03  -1.33670550e+03\n",
      "   -1.56348883e+03   9.19562158e+02  -2.62662551e+03   1.70706335e+03\n",
      "   -1.57615607e-02   6.73618751e-04]]\n",
      "R2 Score: \t 0.213337790076\n"
     ]
    }
   ],
   "source": [
    "y_pred = mlr.predict(X_test)\n",
    "residual = y_test - y_pred\n",
    "\n",
    "# The coefficients\n",
    "print('Coefficients: \\n', mlr.coef_)\n",
    "\n",
    "from sklearn import metrics\n",
    "R2 = metrics.r2_score(y_test, y_pred)\n",
    "print('R2 Score: \\t', R2)"
   ]
  },
  {
   "cell_type": "markdown",
   "metadata": {},
   "source": [
    "* * *\n",
    "## 1. Add Variables related with `Promo2`  \n",
    "  Use 'Promo2', 'Promo2Since[Year/Week]', 'PromoInterval'"
   ]
  },
  {
   "cell_type": "code",
   "execution_count": 13,
   "metadata": {
    "collapsed": false
   },
   "outputs": [
    {
     "data": {
      "text/html": [
       "<div>\n",
       "<table border=\"1\" class=\"dataframe\">\n",
       "  <thead>\n",
       "    <tr style=\"text-align: right;\">\n",
       "      <th></th>\n",
       "      <th>Store</th>\n",
       "      <th>Promo2</th>\n",
       "      <th>Promo2SinceWeek</th>\n",
       "      <th>Promo2SinceYear</th>\n",
       "      <th>PromoInterval</th>\n",
       "    </tr>\n",
       "  </thead>\n",
       "  <tbody>\n",
       "    <tr>\n",
       "      <th>0</th>\n",
       "      <td>1</td>\n",
       "      <td>0</td>\n",
       "      <td>NaN</td>\n",
       "      <td>NaN</td>\n",
       "      <td>NaN</td>\n",
       "    </tr>\n",
       "    <tr>\n",
       "      <th>1</th>\n",
       "      <td>2</td>\n",
       "      <td>1</td>\n",
       "      <td>13.0</td>\n",
       "      <td>2010.0</td>\n",
       "      <td>Jan,Apr,Jul,Oct</td>\n",
       "    </tr>\n",
       "    <tr>\n",
       "      <th>2</th>\n",
       "      <td>3</td>\n",
       "      <td>1</td>\n",
       "      <td>14.0</td>\n",
       "      <td>2011.0</td>\n",
       "      <td>Jan,Apr,Jul,Oct</td>\n",
       "    </tr>\n",
       "    <tr>\n",
       "      <th>3</th>\n",
       "      <td>4</td>\n",
       "      <td>0</td>\n",
       "      <td>NaN</td>\n",
       "      <td>NaN</td>\n",
       "      <td>NaN</td>\n",
       "    </tr>\n",
       "    <tr>\n",
       "      <th>4</th>\n",
       "      <td>5</td>\n",
       "      <td>0</td>\n",
       "      <td>NaN</td>\n",
       "      <td>NaN</td>\n",
       "      <td>NaN</td>\n",
       "    </tr>\n",
       "  </tbody>\n",
       "</table>\n",
       "</div>"
      ],
      "text/plain": [
       "   Store  Promo2  Promo2SinceWeek  Promo2SinceYear    PromoInterval\n",
       "0      1       0              NaN              NaN              NaN\n",
       "1      2       1             13.0           2010.0  Jan,Apr,Jul,Oct\n",
       "2      3       1             14.0           2011.0  Jan,Apr,Jul,Oct\n",
       "3      4       0              NaN              NaN              NaN\n",
       "4      5       0              NaN              NaN              NaN"
      ]
     },
     "execution_count": 13,
     "metadata": {},
     "output_type": "execute_result"
    }
   ],
   "source": [
    "test_record = merge_table[['Store', 'dt_date', 'Sales']]\n",
    "test_store = raw_store[['Store', 'Promo2', 'Promo2SinceWeek', 'Promo2SinceYear', 'PromoInterval']]\n",
    "test_store.head()"
   ]
  },
  {
   "cell_type": "code",
   "execution_count": 14,
   "metadata": {
    "collapsed": false
   },
   "outputs": [
    {
     "name": "stdout",
     "output_type": "stream",
     "text": [
      "Series([], Name: Promo2SinceWeek, dtype: int64)\n",
      "Series([], Name: Promo2SinceYear, dtype: int64)\n",
      "Series([], Name: PromoInterval, dtype: int64)\n"
     ]
    }
   ],
   "source": [
    "for key in ['Promo2SinceWeek', 'Promo2SinceYear', 'PromoInterval'] :\n",
    "    print(test_store[test_store['Promo2']==0][key].value_counts())"
   ]
  },
  {
   "cell_type": "markdown",
   "metadata": {},
   "source": [
    "먼저 이진변수인 `Promo2`==0 일때는 나머지 정보가 모두 NaN이므로, 의미가 없다.  \n",
    "True 일때의 매장에 대해서만 처리가 필요하다."
   ]
  },
  {
   "cell_type": "code",
   "execution_count": 15,
   "metadata": {
    "collapsed": true
   },
   "outputs": [],
   "source": [
    "test_store = test_store[test_store['Promo2']==1]"
   ]
  },
  {
   "cell_type": "code",
   "execution_count": 16,
   "metadata": {
    "collapsed": false
   },
   "outputs": [
    {
     "name": "stdout",
     "output_type": "stream",
     "text": [
      "Week:\t 1.0 \t~\t 50.0\n",
      "Year:\t 2009.0 \t~\t 2015.0\n"
     ]
    }
   ],
   "source": [
    "print(\"Week:\\t\", test_store['Promo2SinceWeek'].min(), \"\\t~\\t\",test_store['Promo2SinceWeek'].max())\n",
    "print(\"Year:\\t\", test_store['Promo2SinceYear'].min(), \"\\t~\\t\",test_store['Promo2SinceYear'].max())"
   ]
  },
  {
   "cell_type": "markdown",
   "metadata": {},
   "source": [
    "`Promo2SinceWeek` 변수의 의미를 생각해보면, 각각의 매장에서 'Promo2'를 언제부터 시행했는지에 대한 정보이다.  \n",
    "1년은 보통 52주로 계산한다.  52주보다 큰 값은 없는 것을 확인했으면 이를 datetime으로 변환할 필요가 잆다.  \n",
    "  \n",
    "우리에게 주어진 정보는 몇년도 몇주차부터 `Promo2`를 시행했는지에 대한 정보이고, 구체적인 정보(시작일, 기간)는 주어지지 않았다. 일단 여기서 우리는 해당 주차에 '월요일'을 기준으로 `Promo2`를 시행했다고 가정한다. "
   ]
  },
  {
   "cell_type": "code",
   "execution_count": 17,
   "metadata": {
    "collapsed": false
   },
   "outputs": [
    {
     "data": {
      "text/plain": [
       "1    2010-03-29\n",
       "2    2011-04-04\n",
       "10   2012-01-02\n",
       "11   2010-03-29\n",
       "12   2009-11-02\n",
       "dtype: datetime64[ns]"
      ]
     },
     "execution_count": 17,
     "metadata": {},
     "output_type": "execute_result"
    }
   ],
   "source": [
    "from isoweek import Week\n",
    "Week(2017,12).monday()\n",
    "Week(2017,12).monday().month, Week(2017,12).monday().day\n",
    "arr_dt_Promo2 = []\n",
    "for idx in test_store.index :\n",
    "    y, w = test_store['Promo2SinceYear'][idx], test_store['Promo2SinceWeek'][idx]\n",
    "    mon = Week(int(y), int(w)).day(0)\n",
    "    arr_dt_Promo2.append(dt(int(y), mon.month, mon.day))\n",
    "arr_dt_Promo2 = pd.Series(arr_dt_Promo2, index=test_store.index)\n",
    "arr_dt_Promo2.head()\n",
    "#test_store['dt_Promo2'] = test_store[['Promo2SinceYear','Promo2SinceWeek']].apply(lambda y,w: Week(y,w).monday(), axis=1)\n",
    "#test_store.head()"
   ]
  },
  {
   "cell_type": "code",
   "execution_count": 18,
   "metadata": {
    "collapsed": false
   },
   "outputs": [
    {
     "name": "stdout",
     "output_type": "stream",
     "text": [
      "2009-07-27 00:00:00 ~ 2015-06-01 00:00:00\n"
     ]
    },
    {
     "data": {
      "text/html": [
       "<div>\n",
       "<table border=\"1\" class=\"dataframe\">\n",
       "  <thead>\n",
       "    <tr style=\"text-align: right;\">\n",
       "      <th></th>\n",
       "      <th>Store</th>\n",
       "      <th>Promo2</th>\n",
       "      <th>Promo2SinceWeek</th>\n",
       "      <th>Promo2SinceYear</th>\n",
       "      <th>PromoInterval</th>\n",
       "      <th>dt_Promo2</th>\n",
       "    </tr>\n",
       "  </thead>\n",
       "  <tbody>\n",
       "    <tr>\n",
       "      <th>1</th>\n",
       "      <td>2</td>\n",
       "      <td>1</td>\n",
       "      <td>13.0</td>\n",
       "      <td>2010.0</td>\n",
       "      <td>Jan,Apr,Jul,Oct</td>\n",
       "      <td>2010-03-29</td>\n",
       "    </tr>\n",
       "    <tr>\n",
       "      <th>2</th>\n",
       "      <td>3</td>\n",
       "      <td>1</td>\n",
       "      <td>14.0</td>\n",
       "      <td>2011.0</td>\n",
       "      <td>Jan,Apr,Jul,Oct</td>\n",
       "      <td>2011-04-04</td>\n",
       "    </tr>\n",
       "    <tr>\n",
       "      <th>10</th>\n",
       "      <td>11</td>\n",
       "      <td>1</td>\n",
       "      <td>1.0</td>\n",
       "      <td>2012.0</td>\n",
       "      <td>Jan,Apr,Jul,Oct</td>\n",
       "      <td>2012-01-02</td>\n",
       "    </tr>\n",
       "    <tr>\n",
       "      <th>11</th>\n",
       "      <td>12</td>\n",
       "      <td>1</td>\n",
       "      <td>13.0</td>\n",
       "      <td>2010.0</td>\n",
       "      <td>Jan,Apr,Jul,Oct</td>\n",
       "      <td>2010-03-29</td>\n",
       "    </tr>\n",
       "    <tr>\n",
       "      <th>12</th>\n",
       "      <td>13</td>\n",
       "      <td>1</td>\n",
       "      <td>45.0</td>\n",
       "      <td>2009.0</td>\n",
       "      <td>Feb,May,Aug,Nov</td>\n",
       "      <td>2009-11-02</td>\n",
       "    </tr>\n",
       "  </tbody>\n",
       "</table>\n",
       "</div>"
      ],
      "text/plain": [
       "    Store  Promo2  Promo2SinceWeek  Promo2SinceYear    PromoInterval  \\\n",
       "1       2       1             13.0           2010.0  Jan,Apr,Jul,Oct   \n",
       "2       3       1             14.0           2011.0  Jan,Apr,Jul,Oct   \n",
       "10     11       1              1.0           2012.0  Jan,Apr,Jul,Oct   \n",
       "11     12       1             13.0           2010.0  Jan,Apr,Jul,Oct   \n",
       "12     13       1             45.0           2009.0  Feb,May,Aug,Nov   \n",
       "\n",
       "    dt_Promo2  \n",
       "1  2010-03-29  \n",
       "2  2011-04-04  \n",
       "10 2012-01-02  \n",
       "11 2010-03-29  \n",
       "12 2009-11-02  "
      ]
     },
     "execution_count": 18,
     "metadata": {},
     "output_type": "execute_result"
    }
   ],
   "source": [
    "test_store['dt_Promo2'] = arr_dt_Promo2\n",
    "print(test_store['dt_Promo2'].min(), \"~\", test_store['dt_Promo2'].max())\n",
    "test_store.head()"
   ]
  },
  {
   "cell_type": "markdown",
   "metadata": {},
   "source": [
    "`Promo2`를 언제부터 시행했는지에 대한 정보는 사용이 가능하게 변환을 했지만, 결정적으로 한번 프로모션을 하면 얼마나 하는지 알 수가 없다.  \n",
    "프로모션을 시행하는 간격은 `PromoInterval` 변수에서 정보를 얻을 수 있다."
   ]
  },
  {
   "cell_type": "code",
   "execution_count": 19,
   "metadata": {
    "collapsed": false
   },
   "outputs": [
    {
     "data": {
      "text/plain": [
       "Jan,Apr,Jul,Oct     335\n",
       "Feb,May,Aug,Nov     130\n",
       "Mar,Jun,Sept,Dec    106\n",
       "Name: PromoInterval, dtype: int64"
      ]
     },
     "execution_count": 19,
     "metadata": {},
     "output_type": "execute_result"
    }
   ],
   "source": [
    "test_store['PromoInterval'].value_counts()"
   ]
  },
  {
   "cell_type": "markdown",
   "metadata": {},
   "source": [
    "정확히 3개월에 한번씩 자체 프로모션(`Promo2`)를 시행하는 것을 알 수 있다.  \n",
    "논리적인 비약이 있지만, ~~프로모션을 시행하는 달(month)의 첫날을 기준으로 하여, record에서의 timestamp와의 날짜간격을 변수로 생성할 수 있지 않을까?~~ 라는 생각을 했다.  \n",
    "일단 문자열로 되어 있는 달(month)정보를 python dictionary 구조를 이용해 key-value pair를 준비해둔다."
   ]
  },
  {
   "cell_type": "code",
   "execution_count": 20,
   "metadata": {
    "collapsed": false
   },
   "outputs": [
    {
     "data": {
      "text/html": [
       "<div>\n",
       "<table border=\"1\" class=\"dataframe\">\n",
       "  <thead>\n",
       "    <tr style=\"text-align: right;\">\n",
       "      <th></th>\n",
       "      <th>Store</th>\n",
       "      <th>dt_date</th>\n",
       "      <th>Sales</th>\n",
       "    </tr>\n",
       "  </thead>\n",
       "  <tbody>\n",
       "    <tr>\n",
       "      <th>0</th>\n",
       "      <td>1</td>\n",
       "      <td>2015-07-31</td>\n",
       "      <td>5263</td>\n",
       "    </tr>\n",
       "    <tr>\n",
       "      <th>1</th>\n",
       "      <td>1</td>\n",
       "      <td>2015-07-30</td>\n",
       "      <td>5020</td>\n",
       "    </tr>\n",
       "    <tr>\n",
       "      <th>2</th>\n",
       "      <td>1</td>\n",
       "      <td>2015-07-29</td>\n",
       "      <td>4782</td>\n",
       "    </tr>\n",
       "    <tr>\n",
       "      <th>3</th>\n",
       "      <td>1</td>\n",
       "      <td>2015-07-28</td>\n",
       "      <td>5011</td>\n",
       "    </tr>\n",
       "    <tr>\n",
       "      <th>4</th>\n",
       "      <td>1</td>\n",
       "      <td>2015-07-27</td>\n",
       "      <td>6102</td>\n",
       "    </tr>\n",
       "  </tbody>\n",
       "</table>\n",
       "</div>"
      ],
      "text/plain": [
       "   Store    dt_date  Sales\n",
       "0      1 2015-07-31   5263\n",
       "1      1 2015-07-30   5020\n",
       "2      1 2015-07-29   4782\n",
       "3      1 2015-07-28   5011\n",
       "4      1 2015-07-27   6102"
      ]
     },
     "execution_count": 20,
     "metadata": {},
     "output_type": "execute_result"
    }
   ],
   "source": [
    "month_dic = {'Jan':1,'Apr':4,'Jul':7,'Oct':10, \n",
    "             'Feb':2,'May':5,'Aug':8,'Nov':11,\n",
    "             'Mar':3,'Jun':6,'Sept':9,'Dec':12}\n",
    "test_record.head()"
   ]
  },
  {
   "cell_type": "code",
   "execution_count": 21,
   "metadata": {
    "collapsed": false
   },
   "outputs": [
    {
     "data": {
      "text/html": [
       "<div>\n",
       "<table border=\"1\" class=\"dataframe\">\n",
       "  <thead>\n",
       "    <tr style=\"text-align: right;\">\n",
       "      <th></th>\n",
       "      <th>Store</th>\n",
       "      <th>dt_date</th>\n",
       "      <th>Sales</th>\n",
       "      <th>Promo2</th>\n",
       "      <th>PromoInterval</th>\n",
       "      <th>dt_Promo2</th>\n",
       "    </tr>\n",
       "  </thead>\n",
       "  <tbody>\n",
       "    <tr>\n",
       "      <th>0</th>\n",
       "      <td>1</td>\n",
       "      <td>2015-07-31</td>\n",
       "      <td>5263</td>\n",
       "      <td>NaN</td>\n",
       "      <td>NaN</td>\n",
       "      <td>NaT</td>\n",
       "    </tr>\n",
       "    <tr>\n",
       "      <th>1</th>\n",
       "      <td>1</td>\n",
       "      <td>2015-07-30</td>\n",
       "      <td>5020</td>\n",
       "      <td>NaN</td>\n",
       "      <td>NaN</td>\n",
       "      <td>NaT</td>\n",
       "    </tr>\n",
       "    <tr>\n",
       "      <th>2</th>\n",
       "      <td>1</td>\n",
       "      <td>2015-07-29</td>\n",
       "      <td>4782</td>\n",
       "      <td>NaN</td>\n",
       "      <td>NaN</td>\n",
       "      <td>NaT</td>\n",
       "    </tr>\n",
       "    <tr>\n",
       "      <th>3</th>\n",
       "      <td>1</td>\n",
       "      <td>2015-07-28</td>\n",
       "      <td>5011</td>\n",
       "      <td>NaN</td>\n",
       "      <td>NaN</td>\n",
       "      <td>NaT</td>\n",
       "    </tr>\n",
       "    <tr>\n",
       "      <th>4</th>\n",
       "      <td>1</td>\n",
       "      <td>2015-07-27</td>\n",
       "      <td>6102</td>\n",
       "      <td>NaN</td>\n",
       "      <td>NaN</td>\n",
       "      <td>NaT</td>\n",
       "    </tr>\n",
       "  </tbody>\n",
       "</table>\n",
       "</div>"
      ],
      "text/plain": [
       "   Store    dt_date  Sales  Promo2 PromoInterval dt_Promo2\n",
       "0      1 2015-07-31   5263     NaN           NaN       NaT\n",
       "1      1 2015-07-30   5020     NaN           NaN       NaT\n",
       "2      1 2015-07-29   4782     NaN           NaN       NaT\n",
       "3      1 2015-07-28   5011     NaN           NaN       NaT\n",
       "4      1 2015-07-27   6102     NaN           NaN       NaT"
      ]
     },
     "execution_count": 21,
     "metadata": {},
     "output_type": "execute_result"
    }
   ],
   "source": [
    "test_merge = pd.merge(test_record, test_store, how='left', on='Store')\n",
    "test_merge = test_merge.drop(['Promo2SinceWeek', 'Promo2SinceYear'], axis=1)\n",
    "test_merge.head()\n",
    "#test_merge[test_merge['Promo2']==1].head()"
   ]
  },
  {
   "cell_type": "code",
   "execution_count": 22,
   "metadata": {
    "collapsed": false
   },
   "outputs": [
    {
     "data": {
      "text/plain": [
       "0   2015-08-01\n",
       "1   2015-08-01\n",
       "2   2015-08-01\n",
       "3   2015-08-01\n",
       "4   2015-08-01\n",
       "Name: dt_Promo2, dtype: datetime64[ns]"
      ]
     },
     "execution_count": 22,
     "metadata": {},
     "output_type": "execute_result"
    }
   ],
   "source": [
    "from datetime import timedelta\n",
    "#test_merge['dt_date'].max() + timedelta(days=1)\n",
    "arr_dt_Promo2 = test_merge['dt_Promo2'].fillna(test_merge['dt_date'].max() + timedelta(days=1))\n",
    "arr_dt_Promo2.head()"
   ]
  },
  {
   "cell_type": "code",
   "execution_count": 23,
   "metadata": {
    "collapsed": false
   },
   "outputs": [
    {
     "data": {
      "text/html": [
       "<div>\n",
       "<table border=\"1\" class=\"dataframe\">\n",
       "  <thead>\n",
       "    <tr style=\"text-align: right;\">\n",
       "      <th></th>\n",
       "      <th>Store</th>\n",
       "      <th>dt_date</th>\n",
       "      <th>Sales</th>\n",
       "      <th>Promo2</th>\n",
       "      <th>PromoInterval</th>\n",
       "      <th>dt_Promo2</th>\n",
       "    </tr>\n",
       "  </thead>\n",
       "  <tbody>\n",
       "    <tr>\n",
       "      <th>0</th>\n",
       "      <td>1</td>\n",
       "      <td>2015-07-31</td>\n",
       "      <td>5263</td>\n",
       "      <td>NaN</td>\n",
       "      <td>NaN</td>\n",
       "      <td>2015-08-01</td>\n",
       "    </tr>\n",
       "    <tr>\n",
       "      <th>781</th>\n",
       "      <td>2</td>\n",
       "      <td>2015-07-31</td>\n",
       "      <td>6064</td>\n",
       "      <td>1.0</td>\n",
       "      <td>Jan,Apr,Jul,Oct</td>\n",
       "      <td>2010-03-29</td>\n",
       "    </tr>\n",
       "    <tr>\n",
       "      <th>1565</th>\n",
       "      <td>3</td>\n",
       "      <td>2015-07-31</td>\n",
       "      <td>8314</td>\n",
       "      <td>1.0</td>\n",
       "      <td>Jan,Apr,Jul,Oct</td>\n",
       "      <td>2011-04-04</td>\n",
       "    </tr>\n",
       "    <tr>\n",
       "      <th>2344</th>\n",
       "      <td>4</td>\n",
       "      <td>2015-07-31</td>\n",
       "      <td>13995</td>\n",
       "      <td>NaN</td>\n",
       "      <td>NaN</td>\n",
       "      <td>2015-08-01</td>\n",
       "    </tr>\n",
       "    <tr>\n",
       "      <th>3128</th>\n",
       "      <td>5</td>\n",
       "      <td>2015-07-31</td>\n",
       "      <td>4822</td>\n",
       "      <td>NaN</td>\n",
       "      <td>NaN</td>\n",
       "      <td>2015-08-01</td>\n",
       "    </tr>\n",
       "  </tbody>\n",
       "</table>\n",
       "</div>"
      ],
      "text/plain": [
       "      Store    dt_date  Sales  Promo2    PromoInterval  dt_Promo2\n",
       "0         1 2015-07-31   5263     NaN              NaN 2015-08-01\n",
       "781       2 2015-07-31   6064     1.0  Jan,Apr,Jul,Oct 2010-03-29\n",
       "1565      3 2015-07-31   8314     1.0  Jan,Apr,Jul,Oct 2011-04-04\n",
       "2344      4 2015-07-31  13995     NaN              NaN 2015-08-01\n",
       "3128      5 2015-07-31   4822     NaN              NaN 2015-08-01"
      ]
     },
     "execution_count": 23,
     "metadata": {},
     "output_type": "execute_result"
    }
   ],
   "source": [
    "test_merge['dt_Promo2'] = arr_dt_Promo2\n",
    "test_merge[test_merge['dt_date']==test_merge['dt_date'].max()].head()"
   ]
  },
  {
   "cell_type": "markdown",
   "metadata": {},
   "source": [
    "`SinceCompetitionOpen` 변수를 처리했을 때와 동일하게, null 값을 갖는 경우는 아예 멀리 보내버려 계산되지 않게 처리했다.  \n",
    "여기서 최대값보다 하루 뒤로 보낸 이유는 :\n",
    "> record가 기록된 datetime과 `dt_Promo2` 변수를 비교해서 자체 프로모션을 이미 시작했을 때와 아닐 때를 구분하기 위함이다. 즉, null 값은 아직 자체 프로모션을 시작하지 않은 것과 의미적으로 동일하다는 것이다.  \n",
    "\n",
    "이제, 이미 자체 프로모션을 시작했다면 `PromoInterval` 에 해당하는 달에 속하는 `Date`는 1 아니면 0을 부여해 binary 변수를 생성하고자 한다.  \n",
    "일단 자체프로모션을 시작했냐 안했냐 여부를 `tf_Promo2` 변수로 표현할 수 있다."
   ]
  },
  {
   "cell_type": "code",
   "execution_count": 24,
   "metadata": {
    "collapsed": false
   },
   "outputs": [
    {
     "data": {
      "text/html": [
       "<div>\n",
       "<table border=\"1\" class=\"dataframe\">\n",
       "  <thead>\n",
       "    <tr style=\"text-align: right;\">\n",
       "      <th></th>\n",
       "      <th>Store</th>\n",
       "      <th>dt_date</th>\n",
       "      <th>Sales</th>\n",
       "      <th>Promo2</th>\n",
       "      <th>PromoInterval</th>\n",
       "      <th>dt_Promo2</th>\n",
       "      <th>tf_Promo2</th>\n",
       "    </tr>\n",
       "  </thead>\n",
       "  <tbody>\n",
       "    <tr>\n",
       "      <th>64392</th>\n",
       "      <td>85</td>\n",
       "      <td>2013-01-01</td>\n",
       "      <td>4220</td>\n",
       "      <td>NaN</td>\n",
       "      <td>NaN</td>\n",
       "      <td>2015-08-01</td>\n",
       "      <td>0</td>\n",
       "    </tr>\n",
       "    <tr>\n",
       "      <th>195070</th>\n",
       "      <td>259</td>\n",
       "      <td>2013-01-01</td>\n",
       "      <td>6851</td>\n",
       "      <td>NaN</td>\n",
       "      <td>NaN</td>\n",
       "      <td>2015-08-01</td>\n",
       "      <td>0</td>\n",
       "    </tr>\n",
       "    <tr>\n",
       "      <th>197575</th>\n",
       "      <td>262</td>\n",
       "      <td>2013-01-01</td>\n",
       "      <td>17267</td>\n",
       "      <td>NaN</td>\n",
       "      <td>NaN</td>\n",
       "      <td>2015-08-01</td>\n",
       "      <td>0</td>\n",
       "    </tr>\n",
       "    <tr>\n",
       "      <th>206921</th>\n",
       "      <td>274</td>\n",
       "      <td>2013-01-01</td>\n",
       "      <td>3102</td>\n",
       "      <td>1.0</td>\n",
       "      <td>Jan,Apr,Jul,Oct</td>\n",
       "      <td>2013-03-04</td>\n",
       "      <td>0</td>\n",
       "    </tr>\n",
       "    <tr>\n",
       "      <th>252529</th>\n",
       "      <td>335</td>\n",
       "      <td>2013-01-01</td>\n",
       "      <td>2401</td>\n",
       "      <td>1.0</td>\n",
       "      <td>Jan,Apr,Jul,Oct</td>\n",
       "      <td>2013-07-29</td>\n",
       "      <td>0</td>\n",
       "    </tr>\n",
       "  </tbody>\n",
       "</table>\n",
       "</div>"
      ],
      "text/plain": [
       "        Store    dt_date  Sales  Promo2    PromoInterval  dt_Promo2  tf_Promo2\n",
       "64392      85 2013-01-01   4220     NaN              NaN 2015-08-01          0\n",
       "195070    259 2013-01-01   6851     NaN              NaN 2015-08-01          0\n",
       "197575    262 2013-01-01  17267     NaN              NaN 2015-08-01          0\n",
       "206921    274 2013-01-01   3102     1.0  Jan,Apr,Jul,Oct 2013-03-04          0\n",
       "252529    335 2013-01-01   2401     1.0  Jan,Apr,Jul,Oct 2013-07-29          0"
      ]
     },
     "execution_count": 24,
     "metadata": {},
     "output_type": "execute_result"
    }
   ],
   "source": [
    "arr_bin = (test_merge['dt_date'] > test_merge['dt_Promo2'])*1\n",
    "test_merge['tf_Promo2'] = arr_bin\n",
    "test_merge[test_merge['dt_date']==test_merge['dt_date'].min()].head()"
   ]
  },
  {
   "cell_type": "code",
   "execution_count": 25,
   "metadata": {
    "collapsed": false
   },
   "outputs": [],
   "source": [
    "Promo2Months = [month_dic[m] for m in test_merge['PromoInterval'][252529].split(',')]\n",
    "Promo2Months\n",
    "#test_merge['dt_date'][252529].month\n",
    "arr_bin = []\n",
    "for idx in test_merge.index :\n",
    "    if test_merge['tf_Promo2'][idx] == 0 :\n",
    "        arr_bin.append(0)\n",
    "        continue\n",
    "    Promo2Months = [month_dic[m] for m in test_merge['PromoInterval'][idx].split(',')]\n",
    "    if test_merge['dt_date'][idx].month in Promo2Months :\n",
    "        arr_bin.append(1)\n",
    "    else :\n",
    "        arr_bin.append(0)"
   ]
  },
  {
   "cell_type": "code",
   "execution_count": 26,
   "metadata": {
    "collapsed": false
   },
   "outputs": [
    {
     "data": {
      "text/html": [
       "<div>\n",
       "<table border=\"1\" class=\"dataframe\">\n",
       "  <thead>\n",
       "    <tr style=\"text-align: right;\">\n",
       "      <th></th>\n",
       "      <th>Store</th>\n",
       "      <th>dt_date</th>\n",
       "      <th>Sales</th>\n",
       "      <th>Promo2</th>\n",
       "      <th>PromoInterval</th>\n",
       "      <th>dt_Promo2</th>\n",
       "      <th>tf_Promo2</th>\n",
       "      <th>bin_Promo2</th>\n",
       "    </tr>\n",
       "  </thead>\n",
       "  <tbody>\n",
       "    <tr>\n",
       "      <th>189</th>\n",
       "      <td>1</td>\n",
       "      <td>2014-12-12</td>\n",
       "      <td>5269</td>\n",
       "      <td>NaN</td>\n",
       "      <td>NaN</td>\n",
       "      <td>2015-08-01</td>\n",
       "      <td>0</td>\n",
       "      <td>0</td>\n",
       "    </tr>\n",
       "    <tr>\n",
       "      <th>971</th>\n",
       "      <td>2</td>\n",
       "      <td>2014-12-12</td>\n",
       "      <td>4407</td>\n",
       "      <td>1.0</td>\n",
       "      <td>Jan,Apr,Jul,Oct</td>\n",
       "      <td>2010-03-29</td>\n",
       "      <td>1</td>\n",
       "      <td>0</td>\n",
       "    </tr>\n",
       "    <tr>\n",
       "      <th>1754</th>\n",
       "      <td>3</td>\n",
       "      <td>2014-12-12</td>\n",
       "      <td>5481</td>\n",
       "      <td>1.0</td>\n",
       "      <td>Jan,Apr,Jul,Oct</td>\n",
       "      <td>2011-04-04</td>\n",
       "      <td>1</td>\n",
       "      <td>0</td>\n",
       "    </tr>\n",
       "    <tr>\n",
       "      <th>2534</th>\n",
       "      <td>4</td>\n",
       "      <td>2014-12-12</td>\n",
       "      <td>8403</td>\n",
       "      <td>NaN</td>\n",
       "      <td>NaN</td>\n",
       "      <td>2015-08-01</td>\n",
       "      <td>0</td>\n",
       "      <td>0</td>\n",
       "    </tr>\n",
       "    <tr>\n",
       "      <th>3318</th>\n",
       "      <td>5</td>\n",
       "      <td>2014-12-12</td>\n",
       "      <td>5355</td>\n",
       "      <td>NaN</td>\n",
       "      <td>NaN</td>\n",
       "      <td>2015-08-01</td>\n",
       "      <td>0</td>\n",
       "      <td>0</td>\n",
       "    </tr>\n",
       "  </tbody>\n",
       "</table>\n",
       "</div>"
      ],
      "text/plain": [
       "      Store    dt_date  Sales  Promo2    PromoInterval  dt_Promo2  tf_Promo2  \\\n",
       "189       1 2014-12-12   5269     NaN              NaN 2015-08-01          0   \n",
       "971       2 2014-12-12   4407     1.0  Jan,Apr,Jul,Oct 2010-03-29          1   \n",
       "1754      3 2014-12-12   5481     1.0  Jan,Apr,Jul,Oct 2011-04-04          1   \n",
       "2534      4 2014-12-12   8403     NaN              NaN 2015-08-01          0   \n",
       "3318      5 2014-12-12   5355     NaN              NaN 2015-08-01          0   \n",
       "\n",
       "      bin_Promo2  \n",
       "189            0  \n",
       "971            0  \n",
       "1754           0  \n",
       "2534           0  \n",
       "3318           0  "
      ]
     },
     "execution_count": 26,
     "metadata": {},
     "output_type": "execute_result"
    }
   ],
   "source": [
    "test_merge['bin_Promo2'] = arr_bin\n",
    "test_merge[test_merge['dt_date']==dt(2014,12,12)].head()"
   ]
  },
  {
   "cell_type": "markdown",
   "metadata": {},
   "source": [
    "위 결과는 과거에 자체 프로모션을 이미 시행했으나, 기록된 레코드의 일자가 프로모션 기간에 속하지 않은 예다.  \n",
    "결과적으로 `tf_Promo2` 변수와 `bin_Promo2` 변수를 곱해\n",
    "레코드 일자가 자체적인 프로모션을 시행하고 있는 기간인지 아닌지에 대한 여부를 표현하고자 한다.\n",
    "> 예를들어, 위 결과와 같이 이미 자체프로모션을 시행하고 있으나 행사기간이 아닌 경우에는 0과 1이 곱해져 0으로 표현된다.  \n",
    "하지만, 반대로 자체프로모션을 시행(`tf_Promo2==1`)하면서 동시에, 레코드 일자가 행사기간에 속할 때(`bin_Promo2==1`)는 1과 1이 곱해져 1로 표현된다.\n",
    "몰론 자체프로모션을 과거에 시행하지 않았다면(`tf_Promo2==0`) 이므로, 결과는 당연히 0 이다.\n",
    "\n",
    "binary 변수를 생성하고, 이를 합성해 Promo2에 관련된 변수를 표현할 수 있다."
   ]
  },
  {
   "cell_type": "code",
   "execution_count": 27,
   "metadata": {
    "collapsed": false
   },
   "outputs": [
    {
     "data": {
      "text/html": [
       "<div>\n",
       "<table border=\"1\" class=\"dataframe\">\n",
       "  <thead>\n",
       "    <tr style=\"text-align: right;\">\n",
       "      <th></th>\n",
       "      <th>Store</th>\n",
       "      <th>dt_date</th>\n",
       "      <th>Sales</th>\n",
       "      <th>Promo2</th>\n",
       "      <th>PromoInterval</th>\n",
       "      <th>dt_Promo2</th>\n",
       "      <th>tf_Promo2</th>\n",
       "      <th>bin_Promo2</th>\n",
       "      <th>res_Promo2</th>\n",
       "    </tr>\n",
       "  </thead>\n",
       "  <tbody>\n",
       "    <tr>\n",
       "      <th>189</th>\n",
       "      <td>1</td>\n",
       "      <td>2014-12-12</td>\n",
       "      <td>5269</td>\n",
       "      <td>NaN</td>\n",
       "      <td>NaN</td>\n",
       "      <td>2015-08-01</td>\n",
       "      <td>0</td>\n",
       "      <td>0</td>\n",
       "      <td>0</td>\n",
       "    </tr>\n",
       "    <tr>\n",
       "      <th>971</th>\n",
       "      <td>2</td>\n",
       "      <td>2014-12-12</td>\n",
       "      <td>4407</td>\n",
       "      <td>1.0</td>\n",
       "      <td>Jan,Apr,Jul,Oct</td>\n",
       "      <td>2010-03-29</td>\n",
       "      <td>1</td>\n",
       "      <td>0</td>\n",
       "      <td>0</td>\n",
       "    </tr>\n",
       "    <tr>\n",
       "      <th>1754</th>\n",
       "      <td>3</td>\n",
       "      <td>2014-12-12</td>\n",
       "      <td>5481</td>\n",
       "      <td>1.0</td>\n",
       "      <td>Jan,Apr,Jul,Oct</td>\n",
       "      <td>2011-04-04</td>\n",
       "      <td>1</td>\n",
       "      <td>0</td>\n",
       "      <td>0</td>\n",
       "    </tr>\n",
       "    <tr>\n",
       "      <th>2534</th>\n",
       "      <td>4</td>\n",
       "      <td>2014-12-12</td>\n",
       "      <td>8403</td>\n",
       "      <td>NaN</td>\n",
       "      <td>NaN</td>\n",
       "      <td>2015-08-01</td>\n",
       "      <td>0</td>\n",
       "      <td>0</td>\n",
       "      <td>0</td>\n",
       "    </tr>\n",
       "    <tr>\n",
       "      <th>3318</th>\n",
       "      <td>5</td>\n",
       "      <td>2014-12-12</td>\n",
       "      <td>5355</td>\n",
       "      <td>NaN</td>\n",
       "      <td>NaN</td>\n",
       "      <td>2015-08-01</td>\n",
       "      <td>0</td>\n",
       "      <td>0</td>\n",
       "      <td>0</td>\n",
       "    </tr>\n",
       "  </tbody>\n",
       "</table>\n",
       "</div>"
      ],
      "text/plain": [
       "      Store    dt_date  Sales  Promo2    PromoInterval  dt_Promo2  tf_Promo2  \\\n",
       "189       1 2014-12-12   5269     NaN              NaN 2015-08-01          0   \n",
       "971       2 2014-12-12   4407     1.0  Jan,Apr,Jul,Oct 2010-03-29          1   \n",
       "1754      3 2014-12-12   5481     1.0  Jan,Apr,Jul,Oct 2011-04-04          1   \n",
       "2534      4 2014-12-12   8403     NaN              NaN 2015-08-01          0   \n",
       "3318      5 2014-12-12   5355     NaN              NaN 2015-08-01          0   \n",
       "\n",
       "      bin_Promo2  res_Promo2  \n",
       "189            0           0  \n",
       "971            0           0  \n",
       "1754           0           0  \n",
       "2534           0           0  \n",
       "3318           0           0  "
      ]
     },
     "execution_count": 27,
     "metadata": {},
     "output_type": "execute_result"
    }
   ],
   "source": [
    "arr_bin = test_merge['tf_Promo2'] * test_merge['bin_Promo2']\n",
    "test_merge['res_Promo2'] = arr_bin\n",
    "test_merge[test_merge['dt_date']==dt(2014,12,12)].head()"
   ]
  },
  {
   "cell_type": "code",
   "execution_count": 28,
   "metadata": {
    "collapsed": false
   },
   "outputs": [
    {
     "name": "stdout",
     "output_type": "stream",
     "text": [
      "len of merge_table:\t 844392 \n",
      "len of test_merge:\t 844392\n"
     ]
    },
    {
     "data": {
      "text/html": [
       "<div>\n",
       "<table border=\"1\" class=\"dataframe\">\n",
       "  <thead>\n",
       "    <tr style=\"text-align: right;\">\n",
       "      <th></th>\n",
       "      <th>Store</th>\n",
       "      <th>Date</th>\n",
       "      <th>Sales</th>\n",
       "      <th>Promo</th>\n",
       "      <th>SchoolHoliday</th>\n",
       "      <th>DayOfWeek_4</th>\n",
       "      <th>DayOfWeek_1</th>\n",
       "      <th>DayOfWeek_6</th>\n",
       "      <th>DayOfWeek_7</th>\n",
       "      <th>DayOfWeek_2</th>\n",
       "      <th>...</th>\n",
       "      <th>StoreType_a</th>\n",
       "      <th>StoreType_b</th>\n",
       "      <th>StoreType_d</th>\n",
       "      <th>Assortment_b</th>\n",
       "      <th>Assortment_c</th>\n",
       "      <th>Assortment_a</th>\n",
       "      <th>dt_date</th>\n",
       "      <th>CompetitionDistance</th>\n",
       "      <th>SinceCompetitionOpen</th>\n",
       "      <th>IsPromo2</th>\n",
       "    </tr>\n",
       "  </thead>\n",
       "  <tbody>\n",
       "    <tr>\n",
       "      <th>0</th>\n",
       "      <td>1</td>\n",
       "      <td>2015-07-31</td>\n",
       "      <td>5263</td>\n",
       "      <td>1</td>\n",
       "      <td>1</td>\n",
       "      <td>0.0</td>\n",
       "      <td>0.0</td>\n",
       "      <td>0.0</td>\n",
       "      <td>0.0</td>\n",
       "      <td>1.0</td>\n",
       "      <td>...</td>\n",
       "      <td>0.0</td>\n",
       "      <td>1.0</td>\n",
       "      <td>0.0</td>\n",
       "      <td>1.0</td>\n",
       "      <td>0.0</td>\n",
       "      <td>0.0</td>\n",
       "      <td>2015-07-31</td>\n",
       "      <td>1270.0</td>\n",
       "      <td>2524.0</td>\n",
       "      <td>0</td>\n",
       "    </tr>\n",
       "    <tr>\n",
       "      <th>1</th>\n",
       "      <td>1</td>\n",
       "      <td>2015-07-30</td>\n",
       "      <td>5020</td>\n",
       "      <td>1</td>\n",
       "      <td>1</td>\n",
       "      <td>0.0</td>\n",
       "      <td>0.0</td>\n",
       "      <td>0.0</td>\n",
       "      <td>1.0</td>\n",
       "      <td>0.0</td>\n",
       "      <td>...</td>\n",
       "      <td>0.0</td>\n",
       "      <td>1.0</td>\n",
       "      <td>0.0</td>\n",
       "      <td>1.0</td>\n",
       "      <td>0.0</td>\n",
       "      <td>0.0</td>\n",
       "      <td>2015-07-30</td>\n",
       "      <td>1270.0</td>\n",
       "      <td>2523.0</td>\n",
       "      <td>0</td>\n",
       "    </tr>\n",
       "    <tr>\n",
       "      <th>2</th>\n",
       "      <td>1</td>\n",
       "      <td>2015-07-29</td>\n",
       "      <td>4782</td>\n",
       "      <td>1</td>\n",
       "      <td>1</td>\n",
       "      <td>0.0</td>\n",
       "      <td>0.0</td>\n",
       "      <td>1.0</td>\n",
       "      <td>0.0</td>\n",
       "      <td>0.0</td>\n",
       "      <td>...</td>\n",
       "      <td>0.0</td>\n",
       "      <td>1.0</td>\n",
       "      <td>0.0</td>\n",
       "      <td>1.0</td>\n",
       "      <td>0.0</td>\n",
       "      <td>0.0</td>\n",
       "      <td>2015-07-29</td>\n",
       "      <td>1270.0</td>\n",
       "      <td>2522.0</td>\n",
       "      <td>0</td>\n",
       "    </tr>\n",
       "    <tr>\n",
       "      <th>3</th>\n",
       "      <td>1</td>\n",
       "      <td>2015-07-28</td>\n",
       "      <td>5011</td>\n",
       "      <td>1</td>\n",
       "      <td>1</td>\n",
       "      <td>0.0</td>\n",
       "      <td>1.0</td>\n",
       "      <td>0.0</td>\n",
       "      <td>0.0</td>\n",
       "      <td>0.0</td>\n",
       "      <td>...</td>\n",
       "      <td>0.0</td>\n",
       "      <td>1.0</td>\n",
       "      <td>0.0</td>\n",
       "      <td>1.0</td>\n",
       "      <td>0.0</td>\n",
       "      <td>0.0</td>\n",
       "      <td>2015-07-28</td>\n",
       "      <td>1270.0</td>\n",
       "      <td>2521.0</td>\n",
       "      <td>0</td>\n",
       "    </tr>\n",
       "    <tr>\n",
       "      <th>4</th>\n",
       "      <td>1</td>\n",
       "      <td>2015-07-27</td>\n",
       "      <td>6102</td>\n",
       "      <td>1</td>\n",
       "      <td>1</td>\n",
       "      <td>1.0</td>\n",
       "      <td>0.0</td>\n",
       "      <td>0.0</td>\n",
       "      <td>0.0</td>\n",
       "      <td>0.0</td>\n",
       "      <td>...</td>\n",
       "      <td>0.0</td>\n",
       "      <td>1.0</td>\n",
       "      <td>0.0</td>\n",
       "      <td>1.0</td>\n",
       "      <td>0.0</td>\n",
       "      <td>0.0</td>\n",
       "      <td>2015-07-27</td>\n",
       "      <td>1270.0</td>\n",
       "      <td>2520.0</td>\n",
       "      <td>0</td>\n",
       "    </tr>\n",
       "  </tbody>\n",
       "</table>\n",
       "<p>5 rows × 27 columns</p>\n",
       "</div>"
      ],
      "text/plain": [
       "   Store        Date  Sales  Promo  SchoolHoliday  DayOfWeek_4  DayOfWeek_1  \\\n",
       "0      1  2015-07-31   5263      1              1          0.0          0.0   \n",
       "1      1  2015-07-30   5020      1              1          0.0          0.0   \n",
       "2      1  2015-07-29   4782      1              1          0.0          0.0   \n",
       "3      1  2015-07-28   5011      1              1          0.0          1.0   \n",
       "4      1  2015-07-27   6102      1              1          1.0          0.0   \n",
       "\n",
       "   DayOfWeek_6  DayOfWeek_7  DayOfWeek_2    ...     StoreType_a  StoreType_b  \\\n",
       "0          0.0          0.0          1.0    ...             0.0          1.0   \n",
       "1          0.0          1.0          0.0    ...             0.0          1.0   \n",
       "2          1.0          0.0          0.0    ...             0.0          1.0   \n",
       "3          0.0          0.0          0.0    ...             0.0          1.0   \n",
       "4          0.0          0.0          0.0    ...             0.0          1.0   \n",
       "\n",
       "   StoreType_d  Assortment_b  Assortment_c  Assortment_a    dt_date  \\\n",
       "0          0.0           1.0           0.0           0.0 2015-07-31   \n",
       "1          0.0           1.0           0.0           0.0 2015-07-30   \n",
       "2          0.0           1.0           0.0           0.0 2015-07-29   \n",
       "3          0.0           1.0           0.0           0.0 2015-07-28   \n",
       "4          0.0           1.0           0.0           0.0 2015-07-27   \n",
       "\n",
       "   CompetitionDistance  SinceCompetitionOpen  IsPromo2  \n",
       "0               1270.0                2524.0         0  \n",
       "1               1270.0                2523.0         0  \n",
       "2               1270.0                2522.0         0  \n",
       "3               1270.0                2521.0         0  \n",
       "4               1270.0                2520.0         0  \n",
       "\n",
       "[5 rows x 27 columns]"
      ]
     },
     "execution_count": 28,
     "metadata": {},
     "output_type": "execute_result"
    }
   ],
   "source": [
    "print(\"len of merge_table:\\t\", len(merge_table), \"\\nlen of test_merge:\\t\", len(test_merge))\n",
    "merge_table['IsPromo2'] = test_merge['res_Promo2']\n",
    "merge_table.head()"
   ]
  },
  {
   "cell_type": "markdown",
   "metadata": {},
   "source": [
    "### modeling of problem 1\n",
    "위와 같은 과정을 통해 모델에 `Promo2` 변수와 관련된 변수를 추가하였다."
   ]
  },
  {
   "cell_type": "code",
   "execution_count": 29,
   "metadata": {
    "collapsed": false
   },
   "outputs": [
    {
     "name": "stdout",
     "output_type": "stream",
     "text": [
      "R2 Score: \t 0.215560970496\n"
     ]
    }
   ],
   "source": [
    "X = merge_table.drop([\"Store\", \"Date\", \"Sales\"], axis=1)\n",
    "X_train, X_test = X[X['dt_date']<dt(2015,1,1)], X[X['dt_date']>=dt(2015,1,1)]\n",
    "X_train, X_test = X_train.drop([\"dt_date\"], axis=1), X_test.drop([\"dt_date\"], axis=1)\n",
    "\n",
    "y = merge_table[[\"Sales\", \"dt_date\"]]\n",
    "y_train, y_test = y[y['dt_date']<dt(2015,1,1)], y[y['dt_date']>=dt(2015,1,1)]\n",
    "y_train, y_test = y_train.drop([\"dt_date\"], axis=1), y_test.drop([\"dt_date\"], axis=1)\n",
    "\n",
    "mlr = LinearRegression()\n",
    "mlr.fit(X_train, y_train)\n",
    "\n",
    "y_pred = mlr.predict(X_test)\n",
    "residual = y_test - y_pred\n",
    "\n",
    "R2 = metrics.r2_score(y_test, y_pred)\n",
    "print('R2 Score: \\t', R2)"
   ]
  },
  {
   "cell_type": "markdown",
   "metadata": {},
   "source": [
    "* * *\n",
    "## 2. Use Store  \n",
    "How to differentiate different store ?\n",
    "\n",
    "1차 과제를 할떄 데이터를 탐색하는 과정에서 매장별 매출분포를 boxplot으로 그려보았다.  \n",
    "  \n",
    "![](./Figure_A3_1.png)  \n",
    "\n",
    "여기서 아이디어를 얻어 매장별 평균 매출 또는 평균 방문 고객수를 반영해 매장정보를 사용하는 것이 어떨까 하는 생각을 해보았다.\n",
    "\n",
    "처음 merge_table을 생성할 때 합성한 df_train에서 `Customer`에 대한 변수를 제거하였기 때문에 먼저 이를 복원한다."
   ]
  },
  {
   "cell_type": "code",
   "execution_count": 30,
   "metadata": {
    "collapsed": false
   },
   "outputs": [
    {
     "name": "stdout",
     "output_type": "stream",
     "text": [
      "len of merge_table:\t 844392 \n",
      "len of df_train:\t 844392\n"
     ]
    },
    {
     "data": {
      "text/plain": [
       "Index(['Store', 'DayOfWeek', 'Date', 'Sales', 'Customers', 'Open', 'Promo',\n",
       "       'StateHoliday', 'SchoolHoliday'],\n",
       "      dtype='object')"
      ]
     },
     "execution_count": 30,
     "metadata": {},
     "output_type": "execute_result"
    }
   ],
   "source": [
    "merge_table.keys()\n",
    "print(\"len of merge_table:\\t\", len(merge_table), \"\\nlen of df_train:\\t\", len(raw_train[raw_train['Open']==1]))\n",
    "df_train = raw_train[raw_train['Open']==1]\n",
    "df_train.keys()"
   ]
  },
  {
   "cell_type": "code",
   "execution_count": 31,
   "metadata": {
    "collapsed": false
   },
   "outputs": [
    {
     "data": {
      "text/html": [
       "<div>\n",
       "<table border=\"1\" class=\"dataframe\">\n",
       "  <thead>\n",
       "    <tr style=\"text-align: right;\">\n",
       "      <th></th>\n",
       "      <th>Store</th>\n",
       "      <th>Date</th>\n",
       "      <th>Sales</th>\n",
       "      <th>Customers</th>\n",
       "      <th>dt_date</th>\n",
       "    </tr>\n",
       "  </thead>\n",
       "  <tbody>\n",
       "    <tr>\n",
       "      <th>0</th>\n",
       "      <td>1</td>\n",
       "      <td>2015-07-31</td>\n",
       "      <td>5263</td>\n",
       "      <td>555</td>\n",
       "      <td>2015-07-31</td>\n",
       "    </tr>\n",
       "    <tr>\n",
       "      <th>1</th>\n",
       "      <td>2</td>\n",
       "      <td>2015-07-31</td>\n",
       "      <td>6064</td>\n",
       "      <td>625</td>\n",
       "      <td>2015-07-31</td>\n",
       "    </tr>\n",
       "    <tr>\n",
       "      <th>2</th>\n",
       "      <td>3</td>\n",
       "      <td>2015-07-31</td>\n",
       "      <td>8314</td>\n",
       "      <td>821</td>\n",
       "      <td>2015-07-31</td>\n",
       "    </tr>\n",
       "    <tr>\n",
       "      <th>3</th>\n",
       "      <td>4</td>\n",
       "      <td>2015-07-31</td>\n",
       "      <td>13995</td>\n",
       "      <td>1498</td>\n",
       "      <td>2015-07-31</td>\n",
       "    </tr>\n",
       "    <tr>\n",
       "      <th>4</th>\n",
       "      <td>5</td>\n",
       "      <td>2015-07-31</td>\n",
       "      <td>4822</td>\n",
       "      <td>559</td>\n",
       "      <td>2015-07-31</td>\n",
       "    </tr>\n",
       "  </tbody>\n",
       "</table>\n",
       "</div>"
      ],
      "text/plain": [
       "   Store        Date  Sales  Customers    dt_date\n",
       "0      1  2015-07-31   5263        555 2015-07-31\n",
       "1      2  2015-07-31   6064        625 2015-07-31\n",
       "2      3  2015-07-31   8314        821 2015-07-31\n",
       "3      4  2015-07-31  13995       1498 2015-07-31\n",
       "4      5  2015-07-31   4822        559 2015-07-31"
      ]
     },
     "execution_count": 31,
     "metadata": {},
     "output_type": "execute_result"
    }
   ],
   "source": [
    "test_train = df_train.drop(['DayOfWeek', 'Open', 'Promo', 'StateHoliday', 'SchoolHoliday'], axis=1)\n",
    "test_train['dt_date'] = pd.to_datetime(test_train['Date'])\n",
    "test_train.head()"
   ]
  },
  {
   "cell_type": "markdown",
   "metadata": {},
   "source": [
    "주(week)차 단위로 평균값을 구하기 위해 각각의 날짜정보가 몇주차에 해당하는지에 대해 조작할 필요가 있다.  \n",
    "> `datetime` 클래스에 `isocalendar()` 라는 인스턴스 메소드는 datetime 자료형 데이터를 3개의 튜플로 반환한다.  \n",
    "Return a 3-tuple, (ISO year, ISO week number, ISO weekday).  \n",
    "\n",
    "이때 우리는 몇주차에 해당하는지가 필요하므로 1번째 인덱스값만 추출해 임시 변수를 생성할 수 있을 것이다."
   ]
  },
  {
   "cell_type": "code",
   "execution_count": 32,
   "metadata": {
    "collapsed": false
   },
   "outputs": [
    {
     "data": {
      "text/html": [
       "<div>\n",
       "<table border=\"1\" class=\"dataframe\">\n",
       "  <thead>\n",
       "    <tr style=\"text-align: right;\">\n",
       "      <th></th>\n",
       "      <th>Store</th>\n",
       "      <th>Date</th>\n",
       "      <th>Sales</th>\n",
       "      <th>Customers</th>\n",
       "      <th>dt_date</th>\n",
       "      <th>tmp_week_num</th>\n",
       "    </tr>\n",
       "  </thead>\n",
       "  <tbody>\n",
       "    <tr>\n",
       "      <th>0</th>\n",
       "      <td>1</td>\n",
       "      <td>2015-07-31</td>\n",
       "      <td>5263</td>\n",
       "      <td>555</td>\n",
       "      <td>2015-07-31</td>\n",
       "      <td>31</td>\n",
       "    </tr>\n",
       "    <tr>\n",
       "      <th>1</th>\n",
       "      <td>2</td>\n",
       "      <td>2015-07-31</td>\n",
       "      <td>6064</td>\n",
       "      <td>625</td>\n",
       "      <td>2015-07-31</td>\n",
       "      <td>31</td>\n",
       "    </tr>\n",
       "    <tr>\n",
       "      <th>2</th>\n",
       "      <td>3</td>\n",
       "      <td>2015-07-31</td>\n",
       "      <td>8314</td>\n",
       "      <td>821</td>\n",
       "      <td>2015-07-31</td>\n",
       "      <td>31</td>\n",
       "    </tr>\n",
       "    <tr>\n",
       "      <th>3</th>\n",
       "      <td>4</td>\n",
       "      <td>2015-07-31</td>\n",
       "      <td>13995</td>\n",
       "      <td>1498</td>\n",
       "      <td>2015-07-31</td>\n",
       "      <td>31</td>\n",
       "    </tr>\n",
       "    <tr>\n",
       "      <th>4</th>\n",
       "      <td>5</td>\n",
       "      <td>2015-07-31</td>\n",
       "      <td>4822</td>\n",
       "      <td>559</td>\n",
       "      <td>2015-07-31</td>\n",
       "      <td>31</td>\n",
       "    </tr>\n",
       "  </tbody>\n",
       "</table>\n",
       "</div>"
      ],
      "text/plain": [
       "   Store        Date  Sales  Customers    dt_date  tmp_week_num\n",
       "0      1  2015-07-31   5263        555 2015-07-31            31\n",
       "1      2  2015-07-31   6064        625 2015-07-31            31\n",
       "2      3  2015-07-31   8314        821 2015-07-31            31\n",
       "3      4  2015-07-31  13995       1498 2015-07-31            31\n",
       "4      5  2015-07-31   4822        559 2015-07-31            31"
      ]
     },
     "execution_count": 32,
     "metadata": {},
     "output_type": "execute_result"
    }
   ],
   "source": [
    "#type(dt(2017,3,22).isocalendar()[1])\n",
    "arr_week_num = test_train['dt_date'].apply(lambda x: x.isocalendar()[1])\n",
    "test_train['tmp_week_num'] = arr_week_num\n",
    "test_train.head()"
   ]
  },
  {
   "cell_type": "code",
   "execution_count": 33,
   "metadata": {
    "collapsed": false
   },
   "outputs": [
    {
     "name": "stdout",
     "output_type": "stream",
     "text": [
      "<class 'pandas.core.frame.DataFrame'>\n"
     ]
    },
    {
     "data": {
      "text/html": [
       "<div>\n",
       "<table border=\"1\" class=\"dataframe\">\n",
       "  <thead>\n",
       "    <tr style=\"text-align: right;\">\n",
       "      <th></th>\n",
       "      <th></th>\n",
       "      <th>W_avg_Sales</th>\n",
       "      <th>W_avg_Customers</th>\n",
       "    </tr>\n",
       "    <tr>\n",
       "      <th>Store</th>\n",
       "      <th>tmp_week_num</th>\n",
       "      <th></th>\n",
       "      <th></th>\n",
       "    </tr>\n",
       "  </thead>\n",
       "  <tbody>\n",
       "    <tr>\n",
       "      <th rowspan=\"5\" valign=\"top\">1</th>\n",
       "      <th>1</th>\n",
       "      <td>4949.500000</td>\n",
       "      <td>604.000000</td>\n",
       "    </tr>\n",
       "    <tr>\n",
       "      <th>2</th>\n",
       "      <td>5048.555556</td>\n",
       "      <td>603.166667</td>\n",
       "    </tr>\n",
       "    <tr>\n",
       "      <th>3</th>\n",
       "      <td>4358.555556</td>\n",
       "      <td>547.777778</td>\n",
       "    </tr>\n",
       "    <tr>\n",
       "      <th>4</th>\n",
       "      <td>4766.166667</td>\n",
       "      <td>570.666667</td>\n",
       "    </tr>\n",
       "    <tr>\n",
       "      <th>5</th>\n",
       "      <td>4689.944444</td>\n",
       "      <td>571.277778</td>\n",
       "    </tr>\n",
       "  </tbody>\n",
       "</table>\n",
       "</div>"
      ],
      "text/plain": [
       "                    W_avg_Sales  W_avg_Customers\n",
       "Store tmp_week_num                              \n",
       "1     1             4949.500000       604.000000\n",
       "      2             5048.555556       603.166667\n",
       "      3             4358.555556       547.777778\n",
       "      4             4766.166667       570.666667\n",
       "      5             4689.944444       571.277778"
      ]
     },
     "execution_count": 33,
     "metadata": {},
     "output_type": "execute_result"
    }
   ],
   "source": [
    "store_avg = test_train.groupby(['Store','tmp_week_num']).mean()\n",
    "print(type(store_avg))\n",
    "store_avg.columns = ['W_avg_Sales', 'W_avg_Customers']\n",
    "store_avg.head()"
   ]
  },
  {
   "cell_type": "markdown",
   "metadata": {},
   "source": [
    "위와 같이 계산한 값은 각 매장의 특성을 나타낸다고 할 수 있다.  \n",
    "전체기간에서의 평균보다는 각 주차에 따라 평균값을 이용하면, 시계열 정보도 활용할 수 있을 것이라 기대된다."
   ]
  },
  {
   "cell_type": "code",
   "execution_count": null,
   "metadata": {
    "collapsed": true
   },
   "outputs": [],
   "source": []
  },
  {
   "cell_type": "markdown",
   "metadata": {},
   "source": [
    "* * *\n",
    "## 3. Any other ideas\n",
    "\n",
    "Ridge 와 **Lasso Regression**을 이용하면 회귀식에서 성능을 높일 수 있지 않을까하는 생각을 했다.  \n",
    "input 데이터에서 수치형 변수는 별로 없고, 카테고리변수를 더미변수화한 변수가 많기 때문에 일부 불필요한 변수를 0으로 보내는 lasso regression이 더 적절할 것이라 생각된다."
   ]
  }
 ],
 "metadata": {
  "anaconda-cloud": {},
  "kernelspec": {
   "display_name": "Python [Root]",
   "language": "python",
   "name": "Python [Root]"
  },
  "language_info": {
   "codemirror_mode": {
    "name": "ipython",
    "version": 3
   },
   "file_extension": ".py",
   "mimetype": "text/x-python",
   "name": "python",
   "nbconvert_exporter": "python",
   "pygments_lexer": "ipython3",
   "version": "3.5.2"
  }
 },
 "nbformat": 4,
 "nbformat_minor": 0
}
